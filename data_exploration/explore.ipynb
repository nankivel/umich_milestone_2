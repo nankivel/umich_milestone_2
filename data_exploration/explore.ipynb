{
 "cells": [
  {
   "cell_type": "code",
   "execution_count": 1,
   "metadata": {},
   "outputs": [],
   "source": [
    "import ingest"
   ]
  },
  {
   "cell_type": "code",
   "execution_count": 2,
   "metadata": {},
   "outputs": [
    {
     "name": "stderr",
     "output_type": "stream",
     "text": [
      "INFO:root:Reading local cache file /Users/nankivel/Downloads/inpatient.pkl\n"
     ]
    }
   ],
   "source": [
    "inpatient = ingest.get_cache_data(\"Inpatient\", \"~/Downloads/inpatient.pkl\")\n",
    "outpatient = ingest.get_cache_data(\"Outpatient\", \"~/Downloads/outpatient.pkl\")"
   ]
  },
  {
   "cell_type": "code",
   "execution_count": 3,
   "metadata": {},
   "outputs": [],
   "source": []
  },
  {
   "cell_type": "code",
   "execution_count": null,
   "metadata": {},
   "outputs": [],
   "source": []
  }
 ],
 "metadata": {
  "kernelspec": {
   "display_name": "base",
   "language": "python",
   "name": "python3"
  },
  "language_info": {
   "codemirror_mode": {
    "name": "ipython",
    "version": 3
   },
   "file_extension": ".py",
   "mimetype": "text/x-python",
   "name": "python",
   "nbconvert_exporter": "python",
   "pygments_lexer": "ipython3",
   "version": "3.9.7"
  },
  "orig_nbformat": 4,
  "vscode": {
   "interpreter": {
    "hash": "e868b84ed675dcdb9d7a28766cc77c91cb3bbeb9bec28db626e5367b0fe47009"
   }
  }
 },
 "nbformat": 4,
 "nbformat_minor": 2
}
