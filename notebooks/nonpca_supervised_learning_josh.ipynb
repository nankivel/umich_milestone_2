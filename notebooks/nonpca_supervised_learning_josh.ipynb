{
 "cells": [
  {
   "cell_type": "code",
   "execution_count": 1,
   "metadata": {},
   "outputs": [],
   "source": [
    "from sklearn.feature_extraction.text import TfidfVectorizer\n",
    "from sklearn.metrics import mean_squared_error\n",
    "from sklearn.ensemble import HistGradientBoostingRegressor\n",
    "from sklearn.linear_model import SGDRegressor\n",
    "from sklearn.linear_model import ElasticNet\n",
    "from sklearn.model_selection import train_test_split, GridSearchCV\n",
    "from sklearn.metrics import make_scorer, mean_squared_error, r2_score\n",
    "from sklearn.preprocessing import normalize\n",
    "\n",
    "\n",
    "from joblib import parallel_backend\n",
    "\n",
    "import xgboost as xgb\n",
    "\n",
    "import pandas as pd\n",
    "import warnings\n",
    "warnings.filterwarnings(\"ignore\")\n",
    "\n",
    "import numpy as np\n",
    "import math\n",
    "\n",
    "import pickle\n",
    "\n",
    "import itertools\n",
    "from tqdm import tqdm\n",
    "from scipy import sparse\n"
   ]
  },
  {
   "cell_type": "code",
   "execution_count": 2,
   "metadata": {},
   "outputs": [],
   "source": [
    "outpatient = pd.read_pickle(\"../data/raw/outpatient.pkl\")\n",
    "# outpatient = ingest.get_cache_data(\"Outpatient\", \"Outpatient.pkl\")"
   ]
  },
  {
   "cell_type": "code",
   "execution_count": 3,
   "metadata": {},
   "outputs": [],
   "source": [
    "outpatient.dropna(subset=['CLM_PMT_AMT'], inplace=True)\n",
    "outpatient = outpatient[['CLM_PMT_AMT']]"
   ]
  },
  {
   "cell_type": "code",
   "execution_count": 5,
   "metadata": {},
   "outputs": [
    {
     "name": "stdout",
     "output_type": "stream",
     "text": [
      "BIRTH_DATE\n",
      "(792562, 1)\n",
      "SEX\n",
      "(792562, 1)\n",
      "State\n",
      "(792562, 52)\n",
      "County\n",
      "(792562, 309)\n",
      "clm_dates\n",
      "(792562, 1)\n",
      "provider\n",
      "(792562, 293)\n",
      "provider_count\n",
      "(792562, 1)\n",
      "DGNS_CD\n",
      "(792562, 999)\n",
      "DGNS_CD_count\n",
      "(792562, 1)\n",
      "PRDCR_CD\n",
      "(792562, 185)\n",
      "PRDCR_CD_count\n",
      "(792562, 1)\n",
      "HCPCS_CD\n",
      "(792562, 725)\n",
      "HCPCS_CD_count\n",
      "(792562, 1)\n"
     ]
    }
   ],
   "source": [
    "with open('../data/features/feature_vectors_dictionary-truncated.pkl', 'rb') as handle:\n",
    "    feature_dictionary = pickle.load(handle)\n",
    "\n",
    "for met_set in feature_dictionary.keys():\n",
    "    print(met_set)\n",
    "    feature_dictionary[met_set] = normalize(sparse.csr_matrix(feature_dictionary[met_set]))\n",
    "    print(np.shape(feature_dictionary[met_set]))"
   ]
  },
  {
   "cell_type": "code",
   "execution_count": 6,
   "metadata": {},
   "outputs": [],
   "source": [
    "def run_model(X, y, model, grid, feature_names):\n",
    "\n",
    "       ### Runs the model and returns MSE and R2 values and corresponding data as a dataframe\n",
    "\n",
    "       ### Takes in four arugments\n",
    "       ### X is the features to that model will be trained on as a sparse matrix\n",
    "       ### y is the scalar that is to be predicted as a list\n",
    "       ### model is the regression model as a model object\n",
    "       ### grid is a dictionary of model hyperparameters\n",
    "\n",
    "       ### returns a dataframe of results from the grid search\n",
    "\n",
    "       scoring = {'mean_squared_error': make_scorer(mean_squared_error), 'r2_score': make_scorer(r2_score)}\n",
    "       with parallel_backend('threading', n_jobs=2):\n",
    "              grid_model = GridSearchCV(model, grid, scoring=scoring, refit=False, return_train_score=True, error_score=\"raise\").fit(X.todense(), y)\n",
    "       \n",
    "       print(grid_model.cv_results_)\n",
    "\n",
    "       df=pd.DataFrame.from_dict(grid_model.cv_results_)\n",
    "       \n",
    "       return df"
   ]
  },
  {
   "cell_type": "code",
   "execution_count": 7,
   "metadata": {},
   "outputs": [],
   "source": [
    "def iterate_feature_sets(model, feature_dict, grid, feature_sets):\n",
    "\n",
    "    ### Creates and runs the specified model with each comboniation of features sets from 1 to k length features and stores the results of the models into a dictionary\n",
    "\n",
    "    ### Takes in four arguments\n",
    "    ### model is the regression model as a model object\n",
    "    ### feature_dict is the dictionary of feature sets\n",
    "    ### grid is a dictionary of model hyperparameters\n",
    "    ### feature_sets dicates how what feature sets will be returned, a list of list of strings corresponding to the keys in the dictionary\n",
    "    ### (continued) all would return all combinations for 1 through k, where  k is the number of keys in feature_dict\n",
    "\n",
    "    ### returns a dictionary of results\n",
    "\n",
    "    results = {}\n",
    "\n",
    "    for feature_list in feature_sets:\n",
    "        if feature_list == 'all':\n",
    "\n",
    "            for n_met in tqdm(range(len(feature_dict))):\n",
    "                for met_set in list(itertools.combinations(feature_dict.keys(), n_met+1)):\n",
    "                    for n_met_set in range(len(met_set)):\n",
    "                        if n_met_set == 0:\n",
    "                            X = feature_dict[met_set[n_met_set]]\n",
    "                        else:\n",
    "                            X  = sparse.hstack((X,feature_dict[met_set[n_met_set]]), format='csr')\n",
    "                    answer = run_model(X, outpatient['CLM_PMT_AMT'].values.tolist(), model, grid, met_set)\n",
    "                    results[met_set] = answer\n",
    "\n",
    "        else:\n",
    "            X = None\n",
    "            Name = ()\n",
    "            for i in feature_list:\n",
    "                if X == None:\n",
    "                    X = feature_dict[i]\n",
    "                    Name += (i,)\n",
    "                else:\n",
    "                    X = sparse.hstack((X, feature_dict[i]), format='csr')\n",
    "                    Name += (i,)\n",
    "            answer = run_model(X, outpatient['CLM_PMT_AMT'].values.tolist(), model, grid, feature_list)\n",
    "            results[Name] = answer\n",
    "        \n",
    "    return results"
   ]
  },
  {
   "cell_type": "code",
   "execution_count": 8,
   "metadata": {},
   "outputs": [],
   "source": [
    "def write_results(results_dict, filename):\n",
    "\n",
    "    ### Takes in two arguements\n",
    "    ### results_dict is the dictionary of feature sets\n",
    "    ### file name is the wanted file name as a string\n",
    "\n",
    "    ### Returns None, but writes a file to the current directory\n",
    "\n",
    "\n",
    "    df = pd.DataFrame()\n",
    "\n",
    "    for r_key in results_dict.keys():\n",
    "        temp_df = results_dict[r_key]\n",
    "        temp_df['features'] = str(r_key)\n",
    "        df = pd.concat((df, temp_df), ignore_index=True)\n",
    "\n",
    "    df.to_csv(filename)\n",
    "\n",
    "    return None"
   ]
  },
  {
   "cell_type": "markdown",
   "metadata": {},
   "source": [
    "# Initial Gradient Boosted Results\n",
    "### Purpose is to find which features sets matter before hyperparameter tuning"
   ]
  },
  {
   "cell_type": "code",
   "execution_count": 9,
   "metadata": {},
   "outputs": [
    {
     "ename": "TypeError",
     "evalue": "np.matrix is not supported. Please convert to a numpy array with np.asarray. For more information see: https://numpy.org/doc/stable/reference/generated/numpy.matrix.html",
     "output_type": "error",
     "traceback": [
      "\u001b[0;31m---------------------------------------------------------------------------\u001b[0m",
      "\u001b[0;31mTypeError\u001b[0m                                 Traceback (most recent call last)",
      "Cell \u001b[0;32mIn[9], line 2\u001b[0m\n\u001b[1;32m      1\u001b[0m GBRModel \u001b[38;5;241m=\u001b[39m HistGradientBoostingRegressor(random_state\u001b[38;5;241m=\u001b[39m\u001b[38;5;241m42\u001b[39m)\n\u001b[0;32m----> 2\u001b[0m write_results(\u001b[43miterate_feature_sets\u001b[49m\u001b[43m(\u001b[49m\u001b[43mGBRModel\u001b[49m\u001b[43m,\u001b[49m\u001b[43m \u001b[49m\u001b[43mfeature_dictionary\u001b[49m\u001b[43m,\u001b[49m\u001b[43m \u001b[49m\u001b[43m{\u001b[49m\u001b[43m}\u001b[49m\u001b[43m,\u001b[49m\u001b[43m \u001b[49m\u001b[43m[\u001b[49m\u001b[43m[\u001b[49m\u001b[38;5;124;43m'\u001b[39;49m\u001b[38;5;124;43mclm_dates\u001b[39;49m\u001b[38;5;124;43m'\u001b[39;49m\u001b[43m,\u001b[49m\u001b[43m \u001b[49m\u001b[38;5;124;43m'\u001b[39;49m\u001b[38;5;124;43mprovider\u001b[39;49m\u001b[38;5;124;43m'\u001b[39;49m\u001b[43m,\u001b[49m\u001b[43m \u001b[49m\u001b[38;5;124;43m'\u001b[39;49m\u001b[38;5;124;43mDGNS_CD\u001b[39;49m\u001b[38;5;124;43m'\u001b[39;49m\u001b[43m,\u001b[49m\u001b[43m \u001b[49m\u001b[38;5;124;43m'\u001b[39;49m\u001b[38;5;124;43mPRDCR_CD\u001b[39;49m\u001b[38;5;124;43m'\u001b[39;49m\u001b[43m,\u001b[49m\u001b[43m \u001b[49m\u001b[38;5;124;43m'\u001b[39;49m\u001b[38;5;124;43mHCPCS_CD\u001b[39;49m\u001b[38;5;124;43m'\u001b[39;49m\u001b[43m]\u001b[49m\u001b[43m,\u001b[49m\n\u001b[1;32m      3\u001b[0m \u001b[43m[\u001b[49m\u001b[38;5;124;43m'\u001b[39;49m\u001b[38;5;124;43mclm_dates\u001b[39;49m\u001b[38;5;124;43m'\u001b[39;49m\u001b[43m,\u001b[49m\u001b[43m \u001b[49m\u001b[38;5;124;43m'\u001b[39;49m\u001b[38;5;124;43mDGNS_CD\u001b[39;49m\u001b[38;5;124;43m'\u001b[39;49m\u001b[43m,\u001b[49m\u001b[43m \u001b[49m\u001b[38;5;124;43m'\u001b[39;49m\u001b[38;5;124;43mPRDCR_CD\u001b[39;49m\u001b[38;5;124;43m'\u001b[39;49m\u001b[43m,\u001b[49m\u001b[43m \u001b[49m\u001b[38;5;124;43m'\u001b[39;49m\u001b[38;5;124;43mHCPCS_CD\u001b[39;49m\u001b[38;5;124;43m'\u001b[39;49m\u001b[43m]\u001b[49m\u001b[43m,\u001b[49m\n\u001b[1;32m      4\u001b[0m \u001b[43m[\u001b[49m\u001b[38;5;124;43m'\u001b[39;49m\u001b[38;5;124;43mclm_dates\u001b[39;49m\u001b[38;5;124;43m'\u001b[39;49m\u001b[43m,\u001b[49m\u001b[43m \u001b[49m\u001b[38;5;124;43m'\u001b[39;49m\u001b[38;5;124;43mDGNS_CD\u001b[39;49m\u001b[38;5;124;43m'\u001b[39;49m\u001b[43m,\u001b[49m\u001b[43m \u001b[49m\u001b[38;5;124;43m'\u001b[39;49m\u001b[38;5;124;43mHCPCS_CD\u001b[39;49m\u001b[38;5;124;43m'\u001b[39;49m\u001b[43m]\u001b[49m\u001b[43m,\u001b[49m\n\u001b[1;32m      5\u001b[0m \u001b[43m[\u001b[49m\u001b[38;5;124;43m'\u001b[39;49m\u001b[38;5;124;43mclm_dates\u001b[39;49m\u001b[38;5;124;43m'\u001b[39;49m\u001b[43m,\u001b[49m\u001b[43m \u001b[49m\u001b[38;5;124;43m'\u001b[39;49m\u001b[38;5;124;43mprovider\u001b[39;49m\u001b[38;5;124;43m'\u001b[39;49m\u001b[43m,\u001b[49m\u001b[43m \u001b[49m\u001b[38;5;124;43m'\u001b[39;49m\u001b[38;5;124;43mDGNS_CD\u001b[39;49m\u001b[38;5;124;43m'\u001b[39;49m\u001b[43m,\u001b[49m\u001b[43m \u001b[49m\u001b[38;5;124;43m'\u001b[39;49m\u001b[38;5;124;43mHCPCS_CD\u001b[39;49m\u001b[38;5;124;43m'\u001b[39;49m\u001b[43m]\u001b[49m\u001b[43m,\u001b[49m\n\u001b[1;32m      6\u001b[0m \u001b[43m[\u001b[49m\u001b[38;5;124;43m'\u001b[39;49m\u001b[38;5;124;43mDGNS_CD\u001b[39;49m\u001b[38;5;124;43m'\u001b[39;49m\u001b[43m,\u001b[49m\u001b[43m \u001b[49m\u001b[38;5;124;43m'\u001b[39;49m\u001b[38;5;124;43mPRDCR_CD\u001b[39;49m\u001b[38;5;124;43m'\u001b[39;49m\u001b[43m,\u001b[49m\u001b[43m \u001b[49m\u001b[38;5;124;43m'\u001b[39;49m\u001b[38;5;124;43mHCPCS_CD\u001b[39;49m\u001b[38;5;124;43m'\u001b[39;49m\u001b[43m]\u001b[49m\u001b[43m,\u001b[49m\n\u001b[1;32m      7\u001b[0m \u001b[43m[\u001b[49m\u001b[38;5;124;43m'\u001b[39;49m\u001b[38;5;124;43mprovider\u001b[39;49m\u001b[38;5;124;43m'\u001b[39;49m\u001b[43m,\u001b[49m\u001b[43m \u001b[49m\u001b[38;5;124;43m'\u001b[39;49m\u001b[38;5;124;43mDGNS_CD\u001b[39;49m\u001b[38;5;124;43m'\u001b[39;49m\u001b[43m,\u001b[49m\u001b[43m \u001b[49m\u001b[38;5;124;43m'\u001b[39;49m\u001b[38;5;124;43mPRDCR_CD\u001b[39;49m\u001b[38;5;124;43m'\u001b[39;49m\u001b[43m,\u001b[49m\u001b[43m \u001b[49m\u001b[38;5;124;43m'\u001b[39;49m\u001b[38;5;124;43mHCPCS_CD\u001b[39;49m\u001b[38;5;124;43m'\u001b[39;49m\u001b[43m]\u001b[49m\u001b[43m,\u001b[49m\n\u001b[1;32m      8\u001b[0m \u001b[43m[\u001b[49m\u001b[38;5;124;43m'\u001b[39;49m\u001b[38;5;124;43mprovider\u001b[39;49m\u001b[38;5;124;43m'\u001b[39;49m\u001b[43m,\u001b[49m\u001b[43m \u001b[49m\u001b[38;5;124;43m'\u001b[39;49m\u001b[38;5;124;43mDGNS_CD\u001b[39;49m\u001b[38;5;124;43m'\u001b[39;49m\u001b[43m,\u001b[49m\u001b[43m \u001b[49m\u001b[38;5;124;43m'\u001b[39;49m\u001b[38;5;124;43mHCPCS_CD\u001b[39;49m\u001b[38;5;124;43m'\u001b[39;49m\u001b[43m]\u001b[49m\u001b[43m,\u001b[49m\n\u001b[1;32m      9\u001b[0m \u001b[43m[\u001b[49m\u001b[38;5;124;43m'\u001b[39;49m\u001b[38;5;124;43mDGNS_CD\u001b[39;49m\u001b[38;5;124;43m'\u001b[39;49m\u001b[43m,\u001b[49m\u001b[43m \u001b[49m\u001b[38;5;124;43m'\u001b[39;49m\u001b[38;5;124;43mHCPCS_CD\u001b[39;49m\u001b[38;5;124;43m'\u001b[39;49m\u001b[43m]\u001b[49m\u001b[43m,\u001b[49m\n\u001b[1;32m     10\u001b[0m \u001b[43m[\u001b[49m\u001b[38;5;124;43m'\u001b[39;49m\u001b[38;5;124;43mclm_dates\u001b[39;49m\u001b[38;5;124;43m'\u001b[39;49m\u001b[43m,\u001b[49m\u001b[43m \u001b[49m\u001b[38;5;124;43m'\u001b[39;49m\u001b[38;5;124;43mHCPCS_CD\u001b[39;49m\u001b[38;5;124;43m'\u001b[39;49m\u001b[43m]\u001b[49m\u001b[43m,\u001b[49m\n\u001b[1;32m     11\u001b[0m \u001b[43m[\u001b[49m\u001b[38;5;124;43m'\u001b[39;49m\u001b[38;5;124;43mclm_dates\u001b[39;49m\u001b[38;5;124;43m'\u001b[39;49m\u001b[43m,\u001b[49m\u001b[43m \u001b[49m\u001b[38;5;124;43m'\u001b[39;49m\u001b[38;5;124;43mprovider\u001b[39;49m\u001b[38;5;124;43m'\u001b[39;49m\u001b[43m,\u001b[49m\u001b[43m \u001b[49m\u001b[38;5;124;43m'\u001b[39;49m\u001b[38;5;124;43mPRDCR_CD\u001b[39;49m\u001b[38;5;124;43m'\u001b[39;49m\u001b[43m,\u001b[49m\u001b[43m \u001b[49m\u001b[38;5;124;43m'\u001b[39;49m\u001b[38;5;124;43mHCPCS_CD\u001b[39;49m\u001b[38;5;124;43m'\u001b[39;49m\u001b[43m]\u001b[49m\u001b[43m,\u001b[49m\n\u001b[1;32m     12\u001b[0m \u001b[43m[\u001b[49m\u001b[38;5;124;43m'\u001b[39;49m\u001b[38;5;124;43mclm_dates\u001b[39;49m\u001b[38;5;124;43m'\u001b[39;49m\u001b[43m,\u001b[49m\u001b[43m \u001b[49m\u001b[38;5;124;43m'\u001b[39;49m\u001b[38;5;124;43mPRDCR_CD\u001b[39;49m\u001b[38;5;124;43m'\u001b[39;49m\u001b[43m,\u001b[49m\u001b[43m \u001b[49m\u001b[38;5;124;43m'\u001b[39;49m\u001b[38;5;124;43mHCPCS_CD\u001b[39;49m\u001b[38;5;124;43m'\u001b[39;49m\u001b[43m]\u001b[49m\u001b[43m,\u001b[49m\n\u001b[1;32m     13\u001b[0m \u001b[43m[\u001b[49m\u001b[38;5;124;43m'\u001b[39;49m\u001b[38;5;124;43mclm_dates\u001b[39;49m\u001b[38;5;124;43m'\u001b[39;49m\u001b[43m,\u001b[49m\u001b[43m \u001b[49m\u001b[38;5;124;43m'\u001b[39;49m\u001b[38;5;124;43mprovider\u001b[39;49m\u001b[38;5;124;43m'\u001b[39;49m\u001b[43m,\u001b[49m\u001b[43m \u001b[49m\u001b[38;5;124;43m'\u001b[39;49m\u001b[38;5;124;43mHCPCS_CD\u001b[39;49m\u001b[38;5;124;43m'\u001b[39;49m\u001b[43m]\u001b[49m\u001b[43m,\u001b[49m\n\u001b[1;32m     14\u001b[0m \u001b[43m[\u001b[49m\u001b[38;5;124;43m'\u001b[39;49m\u001b[38;5;124;43mprovider\u001b[39;49m\u001b[38;5;124;43m'\u001b[39;49m\u001b[43m,\u001b[49m\u001b[43m \u001b[49m\u001b[38;5;124;43m'\u001b[39;49m\u001b[38;5;124;43mPRDCR_CD\u001b[39;49m\u001b[38;5;124;43m'\u001b[39;49m\u001b[43m,\u001b[49m\u001b[43m \u001b[49m\u001b[38;5;124;43m'\u001b[39;49m\u001b[38;5;124;43mHCPCS_CD\u001b[39;49m\u001b[38;5;124;43m'\u001b[39;49m\u001b[43m]\u001b[49m\u001b[43m,\u001b[49m\n\u001b[1;32m     15\u001b[0m \u001b[43m[\u001b[49m\u001b[38;5;124;43m'\u001b[39;49m\u001b[38;5;124;43mprovider\u001b[39;49m\u001b[38;5;124;43m'\u001b[39;49m\u001b[43m,\u001b[49m\u001b[43m \u001b[49m\u001b[38;5;124;43m'\u001b[39;49m\u001b[38;5;124;43mHCPCS_CD\u001b[39;49m\u001b[38;5;124;43m'\u001b[39;49m\u001b[43m]\u001b[49m\u001b[43m,\u001b[49m\n\u001b[1;32m     16\u001b[0m \u001b[43m[\u001b[49m\u001b[38;5;124;43m'\u001b[39;49m\u001b[38;5;124;43mHCPCS_CD\u001b[39;49m\u001b[38;5;124;43m'\u001b[39;49m\u001b[43m]\u001b[49m\u001b[43m,\u001b[49m\n\u001b[1;32m     17\u001b[0m \u001b[43m[\u001b[49m\u001b[38;5;124;43m'\u001b[39;49m\u001b[38;5;124;43mPRDCR_CD\u001b[39;49m\u001b[38;5;124;43m'\u001b[39;49m\u001b[43m,\u001b[49m\u001b[43m \u001b[49m\u001b[38;5;124;43m'\u001b[39;49m\u001b[38;5;124;43mHCPCS_CD\u001b[39;49m\u001b[38;5;124;43m'\u001b[39;49m\u001b[43m]\u001b[49m\u001b[43m,\u001b[49m\n\u001b[1;32m     18\u001b[0m \u001b[43m[\u001b[49m\u001b[38;5;124;43m'\u001b[39;49m\u001b[38;5;124;43mclm_dates\u001b[39;49m\u001b[38;5;124;43m'\u001b[39;49m\u001b[43m,\u001b[49m\u001b[43m \u001b[49m\u001b[38;5;124;43m'\u001b[39;49m\u001b[38;5;124;43mDGNS_CD\u001b[39;49m\u001b[38;5;124;43m'\u001b[39;49m\u001b[43m,\u001b[49m\u001b[43m \u001b[49m\u001b[38;5;124;43m'\u001b[39;49m\u001b[38;5;124;43mPRDCR_CD\u001b[39;49m\u001b[38;5;124;43m'\u001b[39;49m\u001b[43m]\u001b[49m\u001b[43m,\u001b[49m\n\u001b[1;32m     19\u001b[0m \u001b[43m[\u001b[49m\u001b[38;5;124;43m'\u001b[39;49m\u001b[38;5;124;43mclm_dates\u001b[39;49m\u001b[38;5;124;43m'\u001b[39;49m\u001b[43m,\u001b[49m\u001b[43m \u001b[49m\u001b[38;5;124;43m'\u001b[39;49m\u001b[38;5;124;43mprovider\u001b[39;49m\u001b[38;5;124;43m'\u001b[39;49m\u001b[43m,\u001b[49m\u001b[43m \u001b[49m\u001b[38;5;124;43m'\u001b[39;49m\u001b[38;5;124;43mDGNS_CD\u001b[39;49m\u001b[38;5;124;43m'\u001b[39;49m\u001b[43m]\u001b[49m\u001b[43m,\u001b[49m\n\u001b[1;32m     20\u001b[0m \u001b[43m[\u001b[49m\u001b[38;5;124;43m'\u001b[39;49m\u001b[38;5;124;43mclm_dates\u001b[39;49m\u001b[38;5;124;43m'\u001b[39;49m\u001b[43m,\u001b[49m\u001b[43m \u001b[49m\u001b[38;5;124;43m'\u001b[39;49m\u001b[38;5;124;43mDGNS_CD\u001b[39;49m\u001b[38;5;124;43m'\u001b[39;49m\u001b[43m]\u001b[49m\u001b[43m,\u001b[49m\n\u001b[1;32m     21\u001b[0m \u001b[43m[\u001b[49m\u001b[38;5;124;43m'\u001b[39;49m\u001b[38;5;124;43mclm_dates\u001b[39;49m\u001b[38;5;124;43m'\u001b[39;49m\u001b[43m,\u001b[49m\u001b[43m \u001b[49m\u001b[38;5;124;43m'\u001b[39;49m\u001b[38;5;124;43mprovider\u001b[39;49m\u001b[38;5;124;43m'\u001b[39;49m\u001b[43m,\u001b[49m\u001b[43m \u001b[49m\u001b[38;5;124;43m'\u001b[39;49m\u001b[38;5;124;43mDGNS_CD\u001b[39;49m\u001b[38;5;124;43m'\u001b[39;49m\u001b[43m,\u001b[49m\u001b[43m \u001b[49m\u001b[38;5;124;43m'\u001b[39;49m\u001b[38;5;124;43mPRDCR_CD\u001b[39;49m\u001b[38;5;124;43m'\u001b[39;49m\u001b[43m]\u001b[49m\u001b[43m,\u001b[49m\n\u001b[1;32m     22\u001b[0m \u001b[43m[\u001b[49m\u001b[38;5;124;43m'\u001b[39;49m\u001b[38;5;124;43mDGNS_CD\u001b[39;49m\u001b[38;5;124;43m'\u001b[39;49m\u001b[43m,\u001b[49m\u001b[43m \u001b[49m\u001b[38;5;124;43m'\u001b[39;49m\u001b[38;5;124;43mPRDCR_CD\u001b[39;49m\u001b[38;5;124;43m'\u001b[39;49m\u001b[43m]\u001b[49m\u001b[43m,\u001b[49m\n\u001b[1;32m     23\u001b[0m \u001b[43m[\u001b[49m\u001b[38;5;124;43m'\u001b[39;49m\u001b[38;5;124;43mprovider\u001b[39;49m\u001b[38;5;124;43m'\u001b[39;49m\u001b[43m,\u001b[49m\u001b[43m \u001b[49m\u001b[38;5;124;43m'\u001b[39;49m\u001b[38;5;124;43mDGNS_CD\u001b[39;49m\u001b[38;5;124;43m'\u001b[39;49m\u001b[43m]\u001b[49m\u001b[43m,\u001b[49m\n\u001b[1;32m     24\u001b[0m \u001b[43m[\u001b[49m\u001b[38;5;124;43m'\u001b[39;49m\u001b[38;5;124;43mprovider\u001b[39;49m\u001b[38;5;124;43m'\u001b[39;49m\u001b[43m,\u001b[49m\u001b[43m \u001b[49m\u001b[38;5;124;43m'\u001b[39;49m\u001b[38;5;124;43mDGNS_CD\u001b[39;49m\u001b[38;5;124;43m'\u001b[39;49m\u001b[43m,\u001b[49m\u001b[43m \u001b[49m\u001b[38;5;124;43m'\u001b[39;49m\u001b[38;5;124;43mPRDCR_CD\u001b[39;49m\u001b[38;5;124;43m'\u001b[39;49m\u001b[43m]\u001b[49m\u001b[43m,\u001b[49m\n\u001b[1;32m     25\u001b[0m \u001b[43m[\u001b[49m\u001b[38;5;124;43m'\u001b[39;49m\u001b[38;5;124;43mDGNS_CD\u001b[39;49m\u001b[38;5;124;43m'\u001b[39;49m\u001b[43m]\u001b[49m\u001b[43m,\u001b[49m\n\u001b[1;32m     26\u001b[0m \u001b[43m[\u001b[49m\u001b[38;5;124;43m'\u001b[39;49m\u001b[38;5;124;43mclm_dates\u001b[39;49m\u001b[38;5;124;43m'\u001b[39;49m\u001b[43m]\u001b[49m\u001b[43m,\u001b[49m\n\u001b[1;32m     27\u001b[0m \u001b[43m[\u001b[49m\u001b[38;5;124;43m'\u001b[39;49m\u001b[38;5;124;43mclm_dates\u001b[39;49m\u001b[38;5;124;43m'\u001b[39;49m\u001b[43m,\u001b[49m\u001b[43m \u001b[49m\u001b[38;5;124;43m'\u001b[39;49m\u001b[38;5;124;43mPRDCR_CD\u001b[39;49m\u001b[38;5;124;43m'\u001b[39;49m\u001b[43m]\u001b[49m\u001b[43m,\u001b[49m\n\u001b[1;32m     28\u001b[0m \u001b[43m[\u001b[49m\u001b[38;5;124;43m'\u001b[39;49m\u001b[38;5;124;43mclm_dates\u001b[39;49m\u001b[38;5;124;43m'\u001b[39;49m\u001b[43m,\u001b[49m\u001b[43m \u001b[49m\u001b[38;5;124;43m'\u001b[39;49m\u001b[38;5;124;43mprovider\u001b[39;49m\u001b[38;5;124;43m'\u001b[39;49m\u001b[43m]\u001b[49m\u001b[43m,\u001b[49m\n\u001b[1;32m     29\u001b[0m \u001b[43m[\u001b[49m\u001b[38;5;124;43m'\u001b[39;49m\u001b[38;5;124;43mclm_dates\u001b[39;49m\u001b[38;5;124;43m'\u001b[39;49m\u001b[43m,\u001b[49m\u001b[43m \u001b[49m\u001b[38;5;124;43m'\u001b[39;49m\u001b[38;5;124;43mprovider\u001b[39;49m\u001b[38;5;124;43m'\u001b[39;49m\u001b[43m,\u001b[49m\u001b[43m \u001b[49m\u001b[38;5;124;43m'\u001b[39;49m\u001b[38;5;124;43mPRDCR_CD\u001b[39;49m\u001b[38;5;124;43m'\u001b[39;49m\u001b[43m]\u001b[49m\u001b[43m,\u001b[49m\n\u001b[1;32m     30\u001b[0m \u001b[43m[\u001b[49m\u001b[38;5;124;43m'\u001b[39;49m\u001b[38;5;124;43mprovider\u001b[39;49m\u001b[38;5;124;43m'\u001b[39;49m\u001b[43m,\u001b[49m\u001b[43m \u001b[49m\u001b[38;5;124;43m'\u001b[39;49m\u001b[38;5;124;43mPRDCR_CD\u001b[39;49m\u001b[38;5;124;43m'\u001b[39;49m\u001b[43m]\u001b[49m\u001b[43m,\u001b[49m\n\u001b[1;32m     31\u001b[0m \u001b[43m[\u001b[49m\u001b[38;5;124;43m'\u001b[39;49m\u001b[38;5;124;43mPRDCR_CD\u001b[39;49m\u001b[38;5;124;43m'\u001b[39;49m\u001b[43m]\u001b[49m\u001b[43m,\u001b[49m\n\u001b[1;32m     32\u001b[0m \u001b[43m[\u001b[49m\u001b[38;5;124;43m'\u001b[39;49m\u001b[38;5;124;43mprovider\u001b[39;49m\u001b[38;5;124;43m'\u001b[39;49m\u001b[43m]\u001b[49m\u001b[43m]\u001b[49m\u001b[43m)\u001b[49m, \u001b[38;5;124m'\u001b[39m\u001b[38;5;124mInitial_GBRModel.csv\u001b[39m\u001b[38;5;124m'\u001b[39m)\n",
      "Cell \u001b[0;32mIn[7], line 39\u001b[0m, in \u001b[0;36miterate_feature_sets\u001b[0;34m(model, feature_dict, grid, feature_sets)\u001b[0m\n\u001b[1;32m     37\u001b[0m                 X \u001b[38;5;241m=\u001b[39m sparse\u001b[38;5;241m.\u001b[39mhstack((X, feature_dict[i]), \u001b[38;5;28mformat\u001b[39m\u001b[38;5;241m=\u001b[39m\u001b[38;5;124m'\u001b[39m\u001b[38;5;124mcsr\u001b[39m\u001b[38;5;124m'\u001b[39m)\n\u001b[1;32m     38\u001b[0m                 Name \u001b[38;5;241m+\u001b[39m\u001b[38;5;241m=\u001b[39m (i,)\n\u001b[0;32m---> 39\u001b[0m         answer \u001b[38;5;241m=\u001b[39m \u001b[43mrun_model\u001b[49m\u001b[43m(\u001b[49m\u001b[43mX\u001b[49m\u001b[43m,\u001b[49m\u001b[43m \u001b[49m\u001b[43moutpatient\u001b[49m\u001b[43m[\u001b[49m\u001b[38;5;124;43m'\u001b[39;49m\u001b[38;5;124;43mCLM_PMT_AMT\u001b[39;49m\u001b[38;5;124;43m'\u001b[39;49m\u001b[43m]\u001b[49m\u001b[38;5;241;43m.\u001b[39;49m\u001b[43mvalues\u001b[49m\u001b[38;5;241;43m.\u001b[39;49m\u001b[43mtolist\u001b[49m\u001b[43m(\u001b[49m\u001b[43m)\u001b[49m\u001b[43m,\u001b[49m\u001b[43m \u001b[49m\u001b[43mmodel\u001b[49m\u001b[43m,\u001b[49m\u001b[43m \u001b[49m\u001b[43mgrid\u001b[49m\u001b[43m,\u001b[49m\u001b[43m \u001b[49m\u001b[43mfeature_list\u001b[49m\u001b[43m)\u001b[49m\n\u001b[1;32m     40\u001b[0m         results[Name] \u001b[38;5;241m=\u001b[39m answer\n\u001b[1;32m     42\u001b[0m \u001b[38;5;28;01mreturn\u001b[39;00m results\n",
      "Cell \u001b[0;32mIn[6], line 15\u001b[0m, in \u001b[0;36mrun_model\u001b[0;34m(X, y, model, grid, feature_names)\u001b[0m\n\u001b[1;32m     13\u001b[0m scoring \u001b[38;5;241m=\u001b[39m {\u001b[38;5;124m'\u001b[39m\u001b[38;5;124mmean_squared_error\u001b[39m\u001b[38;5;124m'\u001b[39m: make_scorer(mean_squared_error), \u001b[38;5;124m'\u001b[39m\u001b[38;5;124mr2_score\u001b[39m\u001b[38;5;124m'\u001b[39m: make_scorer(r2_score)}\n\u001b[1;32m     14\u001b[0m \u001b[38;5;28;01mwith\u001b[39;00m parallel_backend(\u001b[38;5;124m'\u001b[39m\u001b[38;5;124mthreading\u001b[39m\u001b[38;5;124m'\u001b[39m, n_jobs\u001b[38;5;241m=\u001b[39m\u001b[38;5;241m2\u001b[39m):\n\u001b[0;32m---> 15\u001b[0m        grid_model \u001b[38;5;241m=\u001b[39m \u001b[43mGridSearchCV\u001b[49m\u001b[43m(\u001b[49m\u001b[43mmodel\u001b[49m\u001b[43m,\u001b[49m\u001b[43m \u001b[49m\u001b[43mgrid\u001b[49m\u001b[43m,\u001b[49m\u001b[43m \u001b[49m\u001b[43mscoring\u001b[49m\u001b[38;5;241;43m=\u001b[39;49m\u001b[43mscoring\u001b[49m\u001b[43m,\u001b[49m\u001b[43m \u001b[49m\u001b[43mrefit\u001b[49m\u001b[38;5;241;43m=\u001b[39;49m\u001b[38;5;28;43;01mFalse\u001b[39;49;00m\u001b[43m,\u001b[49m\u001b[43m \u001b[49m\u001b[43mreturn_train_score\u001b[49m\u001b[38;5;241;43m=\u001b[39;49m\u001b[38;5;28;43;01mTrue\u001b[39;49;00m\u001b[43m,\u001b[49m\u001b[43m \u001b[49m\u001b[43merror_score\u001b[49m\u001b[38;5;241;43m=\u001b[39;49m\u001b[38;5;124;43m\"\u001b[39;49m\u001b[38;5;124;43mraise\u001b[39;49m\u001b[38;5;124;43m\"\u001b[39;49m\u001b[43m)\u001b[49m\u001b[38;5;241;43m.\u001b[39;49m\u001b[43mfit\u001b[49m\u001b[43m(\u001b[49m\u001b[43mX\u001b[49m\u001b[38;5;241;43m.\u001b[39;49m\u001b[43mtodense\u001b[49m\u001b[43m(\u001b[49m\u001b[43m)\u001b[49m\u001b[43m,\u001b[49m\u001b[43m \u001b[49m\u001b[43my\u001b[49m\u001b[43m)\u001b[49m\n\u001b[1;32m     17\u001b[0m \u001b[38;5;28mprint\u001b[39m(grid_model\u001b[38;5;241m.\u001b[39mcv_results_)\n\u001b[1;32m     19\u001b[0m df\u001b[38;5;241m=\u001b[39mpd\u001b[38;5;241m.\u001b[39mDataFrame\u001b[38;5;241m.\u001b[39mfrom_dict(grid_model\u001b[38;5;241m.\u001b[39mcv_results_)\n",
      "File \u001b[0;32m~/umich/umich_milestone_2/milestone2env/lib/python3.9/site-packages/sklearn/model_selection/_search.py:874\u001b[0m, in \u001b[0;36mBaseSearchCV.fit\u001b[0;34m(self, X, y, groups, **fit_params)\u001b[0m\n\u001b[1;32m    868\u001b[0m     results \u001b[38;5;241m=\u001b[39m \u001b[38;5;28mself\u001b[39m\u001b[38;5;241m.\u001b[39m_format_results(\n\u001b[1;32m    869\u001b[0m         all_candidate_params, n_splits, all_out, all_more_results\n\u001b[1;32m    870\u001b[0m     )\n\u001b[1;32m    872\u001b[0m     \u001b[38;5;28;01mreturn\u001b[39;00m results\n\u001b[0;32m--> 874\u001b[0m \u001b[38;5;28;43mself\u001b[39;49m\u001b[38;5;241;43m.\u001b[39;49m\u001b[43m_run_search\u001b[49m\u001b[43m(\u001b[49m\u001b[43mevaluate_candidates\u001b[49m\u001b[43m)\u001b[49m\n\u001b[1;32m    876\u001b[0m \u001b[38;5;66;03m# multimetric is determined here because in the case of a callable\u001b[39;00m\n\u001b[1;32m    877\u001b[0m \u001b[38;5;66;03m# self.scoring the return type is only known after calling\u001b[39;00m\n\u001b[1;32m    878\u001b[0m first_test_score \u001b[38;5;241m=\u001b[39m all_out[\u001b[38;5;241m0\u001b[39m][\u001b[38;5;124m\"\u001b[39m\u001b[38;5;124mtest_scores\u001b[39m\u001b[38;5;124m\"\u001b[39m]\n",
      "File \u001b[0;32m~/umich/umich_milestone_2/milestone2env/lib/python3.9/site-packages/sklearn/model_selection/_search.py:1388\u001b[0m, in \u001b[0;36mGridSearchCV._run_search\u001b[0;34m(self, evaluate_candidates)\u001b[0m\n\u001b[1;32m   1386\u001b[0m \u001b[38;5;28;01mdef\u001b[39;00m \u001b[38;5;21m_run_search\u001b[39m(\u001b[38;5;28mself\u001b[39m, evaluate_candidates):\n\u001b[1;32m   1387\u001b[0m \u001b[38;5;250m    \u001b[39m\u001b[38;5;124;03m\"\"\"Search all candidates in param_grid\"\"\"\u001b[39;00m\n\u001b[0;32m-> 1388\u001b[0m     \u001b[43mevaluate_candidates\u001b[49m\u001b[43m(\u001b[49m\u001b[43mParameterGrid\u001b[49m\u001b[43m(\u001b[49m\u001b[38;5;28;43mself\u001b[39;49m\u001b[38;5;241;43m.\u001b[39;49m\u001b[43mparam_grid\u001b[49m\u001b[43m)\u001b[49m\u001b[43m)\u001b[49m\n",
      "File \u001b[0;32m~/umich/umich_milestone_2/milestone2env/lib/python3.9/site-packages/sklearn/model_selection/_search.py:821\u001b[0m, in \u001b[0;36mBaseSearchCV.fit.<locals>.evaluate_candidates\u001b[0;34m(candidate_params, cv, more_results)\u001b[0m\n\u001b[1;32m    813\u001b[0m \u001b[38;5;28;01mif\u001b[39;00m \u001b[38;5;28mself\u001b[39m\u001b[38;5;241m.\u001b[39mverbose \u001b[38;5;241m>\u001b[39m \u001b[38;5;241m0\u001b[39m:\n\u001b[1;32m    814\u001b[0m     \u001b[38;5;28mprint\u001b[39m(\n\u001b[1;32m    815\u001b[0m         \u001b[38;5;124m\"\u001b[39m\u001b[38;5;124mFitting \u001b[39m\u001b[38;5;132;01m{0}\u001b[39;00m\u001b[38;5;124m folds for each of \u001b[39m\u001b[38;5;132;01m{1}\u001b[39;00m\u001b[38;5;124m candidates,\u001b[39m\u001b[38;5;124m\"\u001b[39m\n\u001b[1;32m    816\u001b[0m         \u001b[38;5;124m\"\u001b[39m\u001b[38;5;124m totalling \u001b[39m\u001b[38;5;132;01m{2}\u001b[39;00m\u001b[38;5;124m fits\u001b[39m\u001b[38;5;124m\"\u001b[39m\u001b[38;5;241m.\u001b[39mformat(\n\u001b[1;32m    817\u001b[0m             n_splits, n_candidates, n_candidates \u001b[38;5;241m*\u001b[39m n_splits\n\u001b[1;32m    818\u001b[0m         )\n\u001b[1;32m    819\u001b[0m     )\n\u001b[0;32m--> 821\u001b[0m out \u001b[38;5;241m=\u001b[39m \u001b[43mparallel\u001b[49m\u001b[43m(\u001b[49m\n\u001b[1;32m    822\u001b[0m \u001b[43m    \u001b[49m\u001b[43mdelayed\u001b[49m\u001b[43m(\u001b[49m\u001b[43m_fit_and_score\u001b[49m\u001b[43m)\u001b[49m\u001b[43m(\u001b[49m\n\u001b[1;32m    823\u001b[0m \u001b[43m        \u001b[49m\u001b[43mclone\u001b[49m\u001b[43m(\u001b[49m\u001b[43mbase_estimator\u001b[49m\u001b[43m)\u001b[49m\u001b[43m,\u001b[49m\n\u001b[1;32m    824\u001b[0m \u001b[43m        \u001b[49m\u001b[43mX\u001b[49m\u001b[43m,\u001b[49m\n\u001b[1;32m    825\u001b[0m \u001b[43m        \u001b[49m\u001b[43my\u001b[49m\u001b[43m,\u001b[49m\n\u001b[1;32m    826\u001b[0m \u001b[43m        \u001b[49m\u001b[43mtrain\u001b[49m\u001b[38;5;241;43m=\u001b[39;49m\u001b[43mtrain\u001b[49m\u001b[43m,\u001b[49m\n\u001b[1;32m    827\u001b[0m \u001b[43m        \u001b[49m\u001b[43mtest\u001b[49m\u001b[38;5;241;43m=\u001b[39;49m\u001b[43mtest\u001b[49m\u001b[43m,\u001b[49m\n\u001b[1;32m    828\u001b[0m \u001b[43m        \u001b[49m\u001b[43mparameters\u001b[49m\u001b[38;5;241;43m=\u001b[39;49m\u001b[43mparameters\u001b[49m\u001b[43m,\u001b[49m\n\u001b[1;32m    829\u001b[0m \u001b[43m        \u001b[49m\u001b[43msplit_progress\u001b[49m\u001b[38;5;241;43m=\u001b[39;49m\u001b[43m(\u001b[49m\u001b[43msplit_idx\u001b[49m\u001b[43m,\u001b[49m\u001b[43m \u001b[49m\u001b[43mn_splits\u001b[49m\u001b[43m)\u001b[49m\u001b[43m,\u001b[49m\n\u001b[1;32m    830\u001b[0m \u001b[43m        \u001b[49m\u001b[43mcandidate_progress\u001b[49m\u001b[38;5;241;43m=\u001b[39;49m\u001b[43m(\u001b[49m\u001b[43mcand_idx\u001b[49m\u001b[43m,\u001b[49m\u001b[43m \u001b[49m\u001b[43mn_candidates\u001b[49m\u001b[43m)\u001b[49m\u001b[43m,\u001b[49m\n\u001b[1;32m    831\u001b[0m \u001b[43m        \u001b[49m\u001b[38;5;241;43m*\u001b[39;49m\u001b[38;5;241;43m*\u001b[39;49m\u001b[43mfit_and_score_kwargs\u001b[49m\u001b[43m,\u001b[49m\n\u001b[1;32m    832\u001b[0m \u001b[43m    \u001b[49m\u001b[43m)\u001b[49m\n\u001b[1;32m    833\u001b[0m \u001b[43m    \u001b[49m\u001b[38;5;28;43;01mfor\u001b[39;49;00m\u001b[43m \u001b[49m\u001b[43m(\u001b[49m\u001b[43mcand_idx\u001b[49m\u001b[43m,\u001b[49m\u001b[43m \u001b[49m\u001b[43mparameters\u001b[49m\u001b[43m)\u001b[49m\u001b[43m,\u001b[49m\u001b[43m \u001b[49m\u001b[43m(\u001b[49m\u001b[43msplit_idx\u001b[49m\u001b[43m,\u001b[49m\u001b[43m \u001b[49m\u001b[43m(\u001b[49m\u001b[43mtrain\u001b[49m\u001b[43m,\u001b[49m\u001b[43m \u001b[49m\u001b[43mtest\u001b[49m\u001b[43m)\u001b[49m\u001b[43m)\u001b[49m\u001b[43m \u001b[49m\u001b[38;5;129;43;01min\u001b[39;49;00m\u001b[43m \u001b[49m\u001b[43mproduct\u001b[49m\u001b[43m(\u001b[49m\n\u001b[1;32m    834\u001b[0m \u001b[43m        \u001b[49m\u001b[38;5;28;43menumerate\u001b[39;49m\u001b[43m(\u001b[49m\u001b[43mcandidate_params\u001b[49m\u001b[43m)\u001b[49m\u001b[43m,\u001b[49m\u001b[43m \u001b[49m\u001b[38;5;28;43menumerate\u001b[39;49m\u001b[43m(\u001b[49m\u001b[43mcv\u001b[49m\u001b[38;5;241;43m.\u001b[39;49m\u001b[43msplit\u001b[49m\u001b[43m(\u001b[49m\u001b[43mX\u001b[49m\u001b[43m,\u001b[49m\u001b[43m \u001b[49m\u001b[43my\u001b[49m\u001b[43m,\u001b[49m\u001b[43m \u001b[49m\u001b[43mgroups\u001b[49m\u001b[43m)\u001b[49m\u001b[43m)\u001b[49m\n\u001b[1;32m    835\u001b[0m \u001b[43m    \u001b[49m\u001b[43m)\u001b[49m\n\u001b[1;32m    836\u001b[0m \u001b[43m\u001b[49m\u001b[43m)\u001b[49m\n\u001b[1;32m    838\u001b[0m \u001b[38;5;28;01mif\u001b[39;00m \u001b[38;5;28mlen\u001b[39m(out) \u001b[38;5;241m<\u001b[39m \u001b[38;5;241m1\u001b[39m:\n\u001b[1;32m    839\u001b[0m     \u001b[38;5;28;01mraise\u001b[39;00m \u001b[38;5;167;01mValueError\u001b[39;00m(\n\u001b[1;32m    840\u001b[0m         \u001b[38;5;124m\"\u001b[39m\u001b[38;5;124mNo fits were performed. \u001b[39m\u001b[38;5;124m\"\u001b[39m\n\u001b[1;32m    841\u001b[0m         \u001b[38;5;124m\"\u001b[39m\u001b[38;5;124mWas the CV iterator empty? \u001b[39m\u001b[38;5;124m\"\u001b[39m\n\u001b[1;32m    842\u001b[0m         \u001b[38;5;124m\"\u001b[39m\u001b[38;5;124mWere there no candidates?\u001b[39m\u001b[38;5;124m\"\u001b[39m\n\u001b[1;32m    843\u001b[0m     )\n",
      "File \u001b[0;32m~/umich/umich_milestone_2/milestone2env/lib/python3.9/site-packages/sklearn/utils/parallel.py:63\u001b[0m, in \u001b[0;36mParallel.__call__\u001b[0;34m(self, iterable)\u001b[0m\n\u001b[1;32m     58\u001b[0m config \u001b[38;5;241m=\u001b[39m get_config()\n\u001b[1;32m     59\u001b[0m iterable_with_config \u001b[38;5;241m=\u001b[39m (\n\u001b[1;32m     60\u001b[0m     (_with_config(delayed_func, config), args, kwargs)\n\u001b[1;32m     61\u001b[0m     \u001b[38;5;28;01mfor\u001b[39;00m delayed_func, args, kwargs \u001b[38;5;129;01min\u001b[39;00m iterable\n\u001b[1;32m     62\u001b[0m )\n\u001b[0;32m---> 63\u001b[0m \u001b[38;5;28;01mreturn\u001b[39;00m \u001b[38;5;28;43msuper\u001b[39;49m\u001b[43m(\u001b[49m\u001b[43m)\u001b[49m\u001b[38;5;241;43m.\u001b[39;49m\u001b[38;5;21;43m__call__\u001b[39;49m\u001b[43m(\u001b[49m\u001b[43miterable_with_config\u001b[49m\u001b[43m)\u001b[49m\n",
      "File \u001b[0;32m~/umich/umich_milestone_2/milestone2env/lib/python3.9/site-packages/joblib/parallel.py:1098\u001b[0m, in \u001b[0;36mParallel.__call__\u001b[0;34m(self, iterable)\u001b[0m\n\u001b[1;32m   1095\u001b[0m     \u001b[38;5;28mself\u001b[39m\u001b[38;5;241m.\u001b[39m_iterating \u001b[38;5;241m=\u001b[39m \u001b[38;5;28;01mFalse\u001b[39;00m\n\u001b[1;32m   1097\u001b[0m \u001b[38;5;28;01mwith\u001b[39;00m \u001b[38;5;28mself\u001b[39m\u001b[38;5;241m.\u001b[39m_backend\u001b[38;5;241m.\u001b[39mretrieval_context():\n\u001b[0;32m-> 1098\u001b[0m     \u001b[38;5;28;43mself\u001b[39;49m\u001b[38;5;241;43m.\u001b[39;49m\u001b[43mretrieve\u001b[49m\u001b[43m(\u001b[49m\u001b[43m)\u001b[49m\n\u001b[1;32m   1099\u001b[0m \u001b[38;5;66;03m# Make sure that we get a last message telling us we are done\u001b[39;00m\n\u001b[1;32m   1100\u001b[0m elapsed_time \u001b[38;5;241m=\u001b[39m time\u001b[38;5;241m.\u001b[39mtime() \u001b[38;5;241m-\u001b[39m \u001b[38;5;28mself\u001b[39m\u001b[38;5;241m.\u001b[39m_start_time\n",
      "File \u001b[0;32m~/umich/umich_milestone_2/milestone2env/lib/python3.9/site-packages/joblib/parallel.py:975\u001b[0m, in \u001b[0;36mParallel.retrieve\u001b[0;34m(self)\u001b[0m\n\u001b[1;32m    973\u001b[0m \u001b[38;5;28;01mtry\u001b[39;00m:\n\u001b[1;32m    974\u001b[0m     \u001b[38;5;28;01mif\u001b[39;00m \u001b[38;5;28mgetattr\u001b[39m(\u001b[38;5;28mself\u001b[39m\u001b[38;5;241m.\u001b[39m_backend, \u001b[38;5;124m'\u001b[39m\u001b[38;5;124msupports_timeout\u001b[39m\u001b[38;5;124m'\u001b[39m, \u001b[38;5;28;01mFalse\u001b[39;00m):\n\u001b[0;32m--> 975\u001b[0m         \u001b[38;5;28mself\u001b[39m\u001b[38;5;241m.\u001b[39m_output\u001b[38;5;241m.\u001b[39mextend(\u001b[43mjob\u001b[49m\u001b[38;5;241;43m.\u001b[39;49m\u001b[43mget\u001b[49m\u001b[43m(\u001b[49m\u001b[43mtimeout\u001b[49m\u001b[38;5;241;43m=\u001b[39;49m\u001b[38;5;28;43mself\u001b[39;49m\u001b[38;5;241;43m.\u001b[39;49m\u001b[43mtimeout\u001b[49m\u001b[43m)\u001b[49m)\n\u001b[1;32m    976\u001b[0m     \u001b[38;5;28;01melse\u001b[39;00m:\n\u001b[1;32m    977\u001b[0m         \u001b[38;5;28mself\u001b[39m\u001b[38;5;241m.\u001b[39m_output\u001b[38;5;241m.\u001b[39mextend(job\u001b[38;5;241m.\u001b[39mget())\n",
      "File \u001b[0;32m~/opt/anaconda3/lib/python3.9/multiprocessing/pool.py:771\u001b[0m, in \u001b[0;36mApplyResult.get\u001b[0;34m(self, timeout)\u001b[0m\n\u001b[1;32m    769\u001b[0m     \u001b[38;5;28;01mreturn\u001b[39;00m \u001b[38;5;28mself\u001b[39m\u001b[38;5;241m.\u001b[39m_value\n\u001b[1;32m    770\u001b[0m \u001b[38;5;28;01melse\u001b[39;00m:\n\u001b[0;32m--> 771\u001b[0m     \u001b[38;5;28;01mraise\u001b[39;00m \u001b[38;5;28mself\u001b[39m\u001b[38;5;241m.\u001b[39m_value\n",
      "File \u001b[0;32m~/opt/anaconda3/lib/python3.9/multiprocessing/pool.py:125\u001b[0m, in \u001b[0;36mworker\u001b[0;34m(inqueue, outqueue, initializer, initargs, maxtasks, wrap_exception)\u001b[0m\n\u001b[1;32m    123\u001b[0m job, i, func, args, kwds \u001b[38;5;241m=\u001b[39m task\n\u001b[1;32m    124\u001b[0m \u001b[38;5;28;01mtry\u001b[39;00m:\n\u001b[0;32m--> 125\u001b[0m     result \u001b[38;5;241m=\u001b[39m (\u001b[38;5;28;01mTrue\u001b[39;00m, \u001b[43mfunc\u001b[49m\u001b[43m(\u001b[49m\u001b[38;5;241;43m*\u001b[39;49m\u001b[43margs\u001b[49m\u001b[43m,\u001b[49m\u001b[43m \u001b[49m\u001b[38;5;241;43m*\u001b[39;49m\u001b[38;5;241;43m*\u001b[39;49m\u001b[43mkwds\u001b[49m\u001b[43m)\u001b[49m)\n\u001b[1;32m    126\u001b[0m \u001b[38;5;28;01mexcept\u001b[39;00m \u001b[38;5;167;01mException\u001b[39;00m \u001b[38;5;28;01mas\u001b[39;00m e:\n\u001b[1;32m    127\u001b[0m     \u001b[38;5;28;01mif\u001b[39;00m wrap_exception \u001b[38;5;129;01mand\u001b[39;00m func \u001b[38;5;129;01mis\u001b[39;00m \u001b[38;5;129;01mnot\u001b[39;00m _helper_reraises_exception:\n",
      "File \u001b[0;32m~/umich/umich_milestone_2/milestone2env/lib/python3.9/site-packages/joblib/_parallel_backends.py:620\u001b[0m, in \u001b[0;36mSafeFunction.__call__\u001b[0;34m(self, *args, **kwargs)\u001b[0m\n\u001b[1;32m    618\u001b[0m \u001b[38;5;28;01mdef\u001b[39;00m \u001b[38;5;21m__call__\u001b[39m(\u001b[38;5;28mself\u001b[39m, \u001b[38;5;241m*\u001b[39margs, \u001b[38;5;241m*\u001b[39m\u001b[38;5;241m*\u001b[39mkwargs):\n\u001b[1;32m    619\u001b[0m     \u001b[38;5;28;01mtry\u001b[39;00m:\n\u001b[0;32m--> 620\u001b[0m         \u001b[38;5;28;01mreturn\u001b[39;00m \u001b[38;5;28;43mself\u001b[39;49m\u001b[38;5;241;43m.\u001b[39;49m\u001b[43mfunc\u001b[49m\u001b[43m(\u001b[49m\u001b[38;5;241;43m*\u001b[39;49m\u001b[43margs\u001b[49m\u001b[43m,\u001b[49m\u001b[43m \u001b[49m\u001b[38;5;241;43m*\u001b[39;49m\u001b[38;5;241;43m*\u001b[39;49m\u001b[43mkwargs\u001b[49m\u001b[43m)\u001b[49m\n\u001b[1;32m    621\u001b[0m     \u001b[38;5;28;01mexcept\u001b[39;00m \u001b[38;5;167;01mKeyboardInterrupt\u001b[39;00m \u001b[38;5;28;01mas\u001b[39;00m e:\n\u001b[1;32m    622\u001b[0m         \u001b[38;5;66;03m# We capture the KeyboardInterrupt and reraise it as\u001b[39;00m\n\u001b[1;32m    623\u001b[0m         \u001b[38;5;66;03m# something different, as multiprocessing does not\u001b[39;00m\n\u001b[1;32m    624\u001b[0m         \u001b[38;5;66;03m# interrupt processing for a KeyboardInterrupt\u001b[39;00m\n\u001b[1;32m    625\u001b[0m         \u001b[38;5;28;01mraise\u001b[39;00m WorkerInterrupt() \u001b[38;5;28;01mfrom\u001b[39;00m \u001b[38;5;21;01me\u001b[39;00m\n",
      "File \u001b[0;32m~/umich/umich_milestone_2/milestone2env/lib/python3.9/site-packages/joblib/parallel.py:288\u001b[0m, in \u001b[0;36mBatchedCalls.__call__\u001b[0;34m(self)\u001b[0m\n\u001b[1;32m    284\u001b[0m \u001b[38;5;28;01mdef\u001b[39;00m \u001b[38;5;21m__call__\u001b[39m(\u001b[38;5;28mself\u001b[39m):\n\u001b[1;32m    285\u001b[0m     \u001b[38;5;66;03m# Set the default nested backend to self._backend but do not set the\u001b[39;00m\n\u001b[1;32m    286\u001b[0m     \u001b[38;5;66;03m# change the default number of processes to -1\u001b[39;00m\n\u001b[1;32m    287\u001b[0m     \u001b[38;5;28;01mwith\u001b[39;00m parallel_backend(\u001b[38;5;28mself\u001b[39m\u001b[38;5;241m.\u001b[39m_backend, n_jobs\u001b[38;5;241m=\u001b[39m\u001b[38;5;28mself\u001b[39m\u001b[38;5;241m.\u001b[39m_n_jobs):\n\u001b[0;32m--> 288\u001b[0m         \u001b[38;5;28;01mreturn\u001b[39;00m [func(\u001b[38;5;241m*\u001b[39margs, \u001b[38;5;241m*\u001b[39m\u001b[38;5;241m*\u001b[39mkwargs)\n\u001b[1;32m    289\u001b[0m                 \u001b[38;5;28;01mfor\u001b[39;00m func, args, kwargs \u001b[38;5;129;01min\u001b[39;00m \u001b[38;5;28mself\u001b[39m\u001b[38;5;241m.\u001b[39mitems]\n",
      "File \u001b[0;32m~/umich/umich_milestone_2/milestone2env/lib/python3.9/site-packages/joblib/parallel.py:288\u001b[0m, in \u001b[0;36m<listcomp>\u001b[0;34m(.0)\u001b[0m\n\u001b[1;32m    284\u001b[0m \u001b[38;5;28;01mdef\u001b[39;00m \u001b[38;5;21m__call__\u001b[39m(\u001b[38;5;28mself\u001b[39m):\n\u001b[1;32m    285\u001b[0m     \u001b[38;5;66;03m# Set the default nested backend to self._backend but do not set the\u001b[39;00m\n\u001b[1;32m    286\u001b[0m     \u001b[38;5;66;03m# change the default number of processes to -1\u001b[39;00m\n\u001b[1;32m    287\u001b[0m     \u001b[38;5;28;01mwith\u001b[39;00m parallel_backend(\u001b[38;5;28mself\u001b[39m\u001b[38;5;241m.\u001b[39m_backend, n_jobs\u001b[38;5;241m=\u001b[39m\u001b[38;5;28mself\u001b[39m\u001b[38;5;241m.\u001b[39m_n_jobs):\n\u001b[0;32m--> 288\u001b[0m         \u001b[38;5;28;01mreturn\u001b[39;00m [\u001b[43mfunc\u001b[49m\u001b[43m(\u001b[49m\u001b[38;5;241;43m*\u001b[39;49m\u001b[43margs\u001b[49m\u001b[43m,\u001b[49m\u001b[43m \u001b[49m\u001b[38;5;241;43m*\u001b[39;49m\u001b[38;5;241;43m*\u001b[39;49m\u001b[43mkwargs\u001b[49m\u001b[43m)\u001b[49m\n\u001b[1;32m    289\u001b[0m                 \u001b[38;5;28;01mfor\u001b[39;00m func, args, kwargs \u001b[38;5;129;01min\u001b[39;00m \u001b[38;5;28mself\u001b[39m\u001b[38;5;241m.\u001b[39mitems]\n",
      "File \u001b[0;32m~/umich/umich_milestone_2/milestone2env/lib/python3.9/site-packages/sklearn/utils/parallel.py:123\u001b[0m, in \u001b[0;36m_FuncWrapper.__call__\u001b[0;34m(self, *args, **kwargs)\u001b[0m\n\u001b[1;32m    121\u001b[0m     config \u001b[38;5;241m=\u001b[39m {}\n\u001b[1;32m    122\u001b[0m \u001b[38;5;28;01mwith\u001b[39;00m config_context(\u001b[38;5;241m*\u001b[39m\u001b[38;5;241m*\u001b[39mconfig):\n\u001b[0;32m--> 123\u001b[0m     \u001b[38;5;28;01mreturn\u001b[39;00m \u001b[38;5;28;43mself\u001b[39;49m\u001b[38;5;241;43m.\u001b[39;49m\u001b[43mfunction\u001b[49m\u001b[43m(\u001b[49m\u001b[38;5;241;43m*\u001b[39;49m\u001b[43margs\u001b[49m\u001b[43m,\u001b[49m\u001b[43m \u001b[49m\u001b[38;5;241;43m*\u001b[39;49m\u001b[38;5;241;43m*\u001b[39;49m\u001b[43mkwargs\u001b[49m\u001b[43m)\u001b[49m\n",
      "File \u001b[0;32m~/umich/umich_milestone_2/milestone2env/lib/python3.9/site-packages/sklearn/model_selection/_validation.py:686\u001b[0m, in \u001b[0;36m_fit_and_score\u001b[0;34m(estimator, X, y, scorer, train, test, verbose, parameters, fit_params, return_train_score, return_parameters, return_n_test_samples, return_times, return_estimator, split_progress, candidate_progress, error_score)\u001b[0m\n\u001b[1;32m    684\u001b[0m         estimator\u001b[38;5;241m.\u001b[39mfit(X_train, \u001b[38;5;241m*\u001b[39m\u001b[38;5;241m*\u001b[39mfit_params)\n\u001b[1;32m    685\u001b[0m     \u001b[38;5;28;01melse\u001b[39;00m:\n\u001b[0;32m--> 686\u001b[0m         \u001b[43mestimator\u001b[49m\u001b[38;5;241;43m.\u001b[39;49m\u001b[43mfit\u001b[49m\u001b[43m(\u001b[49m\u001b[43mX_train\u001b[49m\u001b[43m,\u001b[49m\u001b[43m \u001b[49m\u001b[43my_train\u001b[49m\u001b[43m,\u001b[49m\u001b[43m \u001b[49m\u001b[38;5;241;43m*\u001b[39;49m\u001b[38;5;241;43m*\u001b[39;49m\u001b[43mfit_params\u001b[49m\u001b[43m)\u001b[49m\n\u001b[1;32m    688\u001b[0m \u001b[38;5;28;01mexcept\u001b[39;00m \u001b[38;5;167;01mException\u001b[39;00m:\n\u001b[1;32m    689\u001b[0m     \u001b[38;5;66;03m# Note fit time as time until error\u001b[39;00m\n\u001b[1;32m    690\u001b[0m     fit_time \u001b[38;5;241m=\u001b[39m time\u001b[38;5;241m.\u001b[39mtime() \u001b[38;5;241m-\u001b[39m start_time\n",
      "File \u001b[0;32m~/umich/umich_milestone_2/milestone2env/lib/python3.9/site-packages/sklearn/ensemble/_hist_gradient_boosting/gradient_boosting.py:361\u001b[0m, in \u001b[0;36mBaseHistGradientBoosting.fit\u001b[0;34m(self, X, y, sample_weight)\u001b[0m\n\u001b[1;32m    359\u001b[0m \u001b[38;5;66;03m# time spent predicting X for gradient and hessians update\u001b[39;00m\n\u001b[1;32m    360\u001b[0m acc_prediction_time \u001b[38;5;241m=\u001b[39m \u001b[38;5;241m0.0\u001b[39m\n\u001b[0;32m--> 361\u001b[0m X, y \u001b[38;5;241m=\u001b[39m \u001b[38;5;28;43mself\u001b[39;49m\u001b[38;5;241;43m.\u001b[39;49m\u001b[43m_validate_data\u001b[49m\u001b[43m(\u001b[49m\u001b[43mX\u001b[49m\u001b[43m,\u001b[49m\u001b[43m \u001b[49m\u001b[43my\u001b[49m\u001b[43m,\u001b[49m\u001b[43m \u001b[49m\u001b[43mdtype\u001b[49m\u001b[38;5;241;43m=\u001b[39;49m\u001b[43m[\u001b[49m\u001b[43mX_DTYPE\u001b[49m\u001b[43m]\u001b[49m\u001b[43m,\u001b[49m\u001b[43m \u001b[49m\u001b[43mforce_all_finite\u001b[49m\u001b[38;5;241;43m=\u001b[39;49m\u001b[38;5;28;43;01mFalse\u001b[39;49;00m\u001b[43m)\u001b[49m\n\u001b[1;32m    362\u001b[0m y \u001b[38;5;241m=\u001b[39m \u001b[38;5;28mself\u001b[39m\u001b[38;5;241m.\u001b[39m_encode_y(y)\n\u001b[1;32m    363\u001b[0m check_consistent_length(X, y)\n",
      "File \u001b[0;32m~/umich/umich_milestone_2/milestone2env/lib/python3.9/site-packages/sklearn/base.py:565\u001b[0m, in \u001b[0;36mBaseEstimator._validate_data\u001b[0;34m(self, X, y, reset, validate_separately, **check_params)\u001b[0m\n\u001b[1;32m    563\u001b[0m         y \u001b[38;5;241m=\u001b[39m check_array(y, input_name\u001b[38;5;241m=\u001b[39m\u001b[38;5;124m\"\u001b[39m\u001b[38;5;124my\u001b[39m\u001b[38;5;124m\"\u001b[39m, \u001b[38;5;241m*\u001b[39m\u001b[38;5;241m*\u001b[39mcheck_y_params)\n\u001b[1;32m    564\u001b[0m     \u001b[38;5;28;01melse\u001b[39;00m:\n\u001b[0;32m--> 565\u001b[0m         X, y \u001b[38;5;241m=\u001b[39m \u001b[43mcheck_X_y\u001b[49m\u001b[43m(\u001b[49m\u001b[43mX\u001b[49m\u001b[43m,\u001b[49m\u001b[43m \u001b[49m\u001b[43my\u001b[49m\u001b[43m,\u001b[49m\u001b[43m \u001b[49m\u001b[38;5;241;43m*\u001b[39;49m\u001b[38;5;241;43m*\u001b[39;49m\u001b[43mcheck_params\u001b[49m\u001b[43m)\u001b[49m\n\u001b[1;32m    566\u001b[0m     out \u001b[38;5;241m=\u001b[39m X, y\n\u001b[1;32m    568\u001b[0m \u001b[38;5;28;01mif\u001b[39;00m \u001b[38;5;129;01mnot\u001b[39;00m no_val_X \u001b[38;5;129;01mand\u001b[39;00m check_params\u001b[38;5;241m.\u001b[39mget(\u001b[38;5;124m\"\u001b[39m\u001b[38;5;124mensure_2d\u001b[39m\u001b[38;5;124m\"\u001b[39m, \u001b[38;5;28;01mTrue\u001b[39;00m):\n",
      "File \u001b[0;32m~/umich/umich_milestone_2/milestone2env/lib/python3.9/site-packages/sklearn/utils/validation.py:1106\u001b[0m, in \u001b[0;36mcheck_X_y\u001b[0;34m(X, y, accept_sparse, accept_large_sparse, dtype, order, copy, force_all_finite, ensure_2d, allow_nd, multi_output, ensure_min_samples, ensure_min_features, y_numeric, estimator)\u001b[0m\n\u001b[1;32m   1101\u001b[0m         estimator_name \u001b[38;5;241m=\u001b[39m _check_estimator_name(estimator)\n\u001b[1;32m   1102\u001b[0m     \u001b[38;5;28;01mraise\u001b[39;00m \u001b[38;5;167;01mValueError\u001b[39;00m(\n\u001b[1;32m   1103\u001b[0m         \u001b[38;5;124mf\u001b[39m\u001b[38;5;124m\"\u001b[39m\u001b[38;5;132;01m{\u001b[39;00mestimator_name\u001b[38;5;132;01m}\u001b[39;00m\u001b[38;5;124m requires y to be passed, but the target y is None\u001b[39m\u001b[38;5;124m\"\u001b[39m\n\u001b[1;32m   1104\u001b[0m     )\n\u001b[0;32m-> 1106\u001b[0m X \u001b[38;5;241m=\u001b[39m \u001b[43mcheck_array\u001b[49m\u001b[43m(\u001b[49m\n\u001b[1;32m   1107\u001b[0m \u001b[43m    \u001b[49m\u001b[43mX\u001b[49m\u001b[43m,\u001b[49m\n\u001b[1;32m   1108\u001b[0m \u001b[43m    \u001b[49m\u001b[43maccept_sparse\u001b[49m\u001b[38;5;241;43m=\u001b[39;49m\u001b[43maccept_sparse\u001b[49m\u001b[43m,\u001b[49m\n\u001b[1;32m   1109\u001b[0m \u001b[43m    \u001b[49m\u001b[43maccept_large_sparse\u001b[49m\u001b[38;5;241;43m=\u001b[39;49m\u001b[43maccept_large_sparse\u001b[49m\u001b[43m,\u001b[49m\n\u001b[1;32m   1110\u001b[0m \u001b[43m    \u001b[49m\u001b[43mdtype\u001b[49m\u001b[38;5;241;43m=\u001b[39;49m\u001b[43mdtype\u001b[49m\u001b[43m,\u001b[49m\n\u001b[1;32m   1111\u001b[0m \u001b[43m    \u001b[49m\u001b[43morder\u001b[49m\u001b[38;5;241;43m=\u001b[39;49m\u001b[43morder\u001b[49m\u001b[43m,\u001b[49m\n\u001b[1;32m   1112\u001b[0m \u001b[43m    \u001b[49m\u001b[43mcopy\u001b[49m\u001b[38;5;241;43m=\u001b[39;49m\u001b[43mcopy\u001b[49m\u001b[43m,\u001b[49m\n\u001b[1;32m   1113\u001b[0m \u001b[43m    \u001b[49m\u001b[43mforce_all_finite\u001b[49m\u001b[38;5;241;43m=\u001b[39;49m\u001b[43mforce_all_finite\u001b[49m\u001b[43m,\u001b[49m\n\u001b[1;32m   1114\u001b[0m \u001b[43m    \u001b[49m\u001b[43mensure_2d\u001b[49m\u001b[38;5;241;43m=\u001b[39;49m\u001b[43mensure_2d\u001b[49m\u001b[43m,\u001b[49m\n\u001b[1;32m   1115\u001b[0m \u001b[43m    \u001b[49m\u001b[43mallow_nd\u001b[49m\u001b[38;5;241;43m=\u001b[39;49m\u001b[43mallow_nd\u001b[49m\u001b[43m,\u001b[49m\n\u001b[1;32m   1116\u001b[0m \u001b[43m    \u001b[49m\u001b[43mensure_min_samples\u001b[49m\u001b[38;5;241;43m=\u001b[39;49m\u001b[43mensure_min_samples\u001b[49m\u001b[43m,\u001b[49m\n\u001b[1;32m   1117\u001b[0m \u001b[43m    \u001b[49m\u001b[43mensure_min_features\u001b[49m\u001b[38;5;241;43m=\u001b[39;49m\u001b[43mensure_min_features\u001b[49m\u001b[43m,\u001b[49m\n\u001b[1;32m   1118\u001b[0m \u001b[43m    \u001b[49m\u001b[43mestimator\u001b[49m\u001b[38;5;241;43m=\u001b[39;49m\u001b[43mestimator\u001b[49m\u001b[43m,\u001b[49m\n\u001b[1;32m   1119\u001b[0m \u001b[43m    \u001b[49m\u001b[43minput_name\u001b[49m\u001b[38;5;241;43m=\u001b[39;49m\u001b[38;5;124;43m\"\u001b[39;49m\u001b[38;5;124;43mX\u001b[39;49m\u001b[38;5;124;43m\"\u001b[39;49m\u001b[43m,\u001b[49m\n\u001b[1;32m   1120\u001b[0m \u001b[43m\u001b[49m\u001b[43m)\u001b[49m\n\u001b[1;32m   1122\u001b[0m y \u001b[38;5;241m=\u001b[39m _check_y(y, multi_output\u001b[38;5;241m=\u001b[39mmulti_output, y_numeric\u001b[38;5;241m=\u001b[39my_numeric, estimator\u001b[38;5;241m=\u001b[39mestimator)\n\u001b[1;32m   1124\u001b[0m check_consistent_length(X, y)\n",
      "File \u001b[0;32m~/umich/umich_milestone_2/milestone2env/lib/python3.9/site-packages/sklearn/utils/validation.py:737\u001b[0m, in \u001b[0;36mcheck_array\u001b[0;34m(array, accept_sparse, accept_large_sparse, dtype, order, copy, force_all_finite, ensure_2d, allow_nd, ensure_min_samples, ensure_min_features, estimator, input_name)\u001b[0m\n\u001b[1;32m    646\u001b[0m \u001b[38;5;250m\u001b[39m\u001b[38;5;124;03m\"\"\"Input validation on an array, list, sparse matrix or similar.\u001b[39;00m\n\u001b[1;32m    647\u001b[0m \n\u001b[1;32m    648\u001b[0m \u001b[38;5;124;03mBy default, the input is checked to be a non-empty 2D array containing\u001b[39;00m\n\u001b[0;32m   (...)\u001b[0m\n\u001b[1;32m    734\u001b[0m \u001b[38;5;124;03m    The converted and validated array.\u001b[39;00m\n\u001b[1;32m    735\u001b[0m \u001b[38;5;124;03m\"\"\"\u001b[39;00m\n\u001b[1;32m    736\u001b[0m \u001b[38;5;28;01mif\u001b[39;00m \u001b[38;5;28misinstance\u001b[39m(array, np\u001b[38;5;241m.\u001b[39mmatrix):\n\u001b[0;32m--> 737\u001b[0m     \u001b[38;5;28;01mraise\u001b[39;00m \u001b[38;5;167;01mTypeError\u001b[39;00m(\n\u001b[1;32m    738\u001b[0m         \u001b[38;5;124m\"\u001b[39m\u001b[38;5;124mnp.matrix is not supported. Please convert to a numpy array with \u001b[39m\u001b[38;5;124m\"\u001b[39m\n\u001b[1;32m    739\u001b[0m         \u001b[38;5;124m\"\u001b[39m\u001b[38;5;124mnp.asarray. For more information see: \u001b[39m\u001b[38;5;124m\"\u001b[39m\n\u001b[1;32m    740\u001b[0m         \u001b[38;5;124m\"\u001b[39m\u001b[38;5;124mhttps://numpy.org/doc/stable/reference/generated/numpy.matrix.html\u001b[39m\u001b[38;5;124m\"\u001b[39m\n\u001b[1;32m    741\u001b[0m     )\n\u001b[1;32m    743\u001b[0m xp, is_array_api \u001b[38;5;241m=\u001b[39m get_namespace(array)\n\u001b[1;32m    745\u001b[0m \u001b[38;5;66;03m# store reference to original array to check if copy is needed when\u001b[39;00m\n\u001b[1;32m    746\u001b[0m \u001b[38;5;66;03m# function returns\u001b[39;00m\n",
      "\u001b[0;31mTypeError\u001b[0m: np.matrix is not supported. Please convert to a numpy array with np.asarray. For more information see: https://numpy.org/doc/stable/reference/generated/numpy.matrix.html"
     ]
    }
   ],
   "source": [
    "GBRModel = HistGradientBoostingRegressor(random_state=42)\n",
    "write_results(iterate_feature_sets(GBRModel, feature_dictionary, {}, [['clm_dates', 'provider', 'DGNS_CD', 'PRDCR_CD', 'HCPCS_CD'],\n",
    "['clm_dates', 'DGNS_CD', 'PRDCR_CD', 'HCPCS_CD'],\n",
    "['clm_dates', 'DGNS_CD', 'HCPCS_CD'],\n",
    "['clm_dates', 'provider', 'DGNS_CD', 'HCPCS_CD'],\n",
    "['DGNS_CD', 'PRDCR_CD', 'HCPCS_CD'],\n",
    "['provider', 'DGNS_CD', 'PRDCR_CD', 'HCPCS_CD'],\n",
    "['provider', 'DGNS_CD', 'HCPCS_CD'],\n",
    "['DGNS_CD', 'HCPCS_CD'],\n",
    "['clm_dates', 'HCPCS_CD'],\n",
    "['clm_dates', 'provider', 'PRDCR_CD', 'HCPCS_CD'],\n",
    "['clm_dates', 'PRDCR_CD', 'HCPCS_CD'],\n",
    "['clm_dates', 'provider', 'HCPCS_CD'],\n",
    "['provider', 'PRDCR_CD', 'HCPCS_CD'],\n",
    "['provider', 'HCPCS_CD'],\n",
    "['HCPCS_CD'],\n",
    "['PRDCR_CD', 'HCPCS_CD'],\n",
    "['clm_dates', 'DGNS_CD', 'PRDCR_CD'],\n",
    "['clm_dates', 'provider', 'DGNS_CD'],\n",
    "['clm_dates', 'DGNS_CD'],\n",
    "['clm_dates', 'provider', 'DGNS_CD', 'PRDCR_CD'],\n",
    "['DGNS_CD', 'PRDCR_CD'],\n",
    "['provider', 'DGNS_CD'],\n",
    "['provider', 'DGNS_CD', 'PRDCR_CD'],\n",
    "['DGNS_CD'],\n",
    "['clm_dates'],\n",
    "['clm_dates', 'PRDCR_CD'],\n",
    "['clm_dates', 'provider'],\n",
    "['clm_dates', 'provider', 'PRDCR_CD'],\n",
    "['provider', 'PRDCR_CD'],\n",
    "['PRDCR_CD'],\n",
    "['provider']]), 'Initial_GBRModel.csv')"
   ]
  },
  {
   "cell_type": "markdown",
   "metadata": {},
   "source": [
    "# Initial Stochastic Gradient Descent Results\n",
    "### Purpose is to find which features set's matter before hyperparameter tuning"
   ]
  },
  {
   "cell_type": "code",
   "execution_count": 9,
   "metadata": {},
   "outputs": [
    {
     "data": {
      "text/plain": [
       "\"\\nSGDModel = SGDRegressor(random_state=42)\\nwrite_results(iterate_feature_sets(SGDModel, feature_dictionary, {}, [['clm_dates', 'provider', 'DGNS_CD', 'PRDCR_CD', 'HCPCS_CD'],\\n['clm_dates', 'DGNS_CD', 'PRDCR_CD', 'HCPCS_CD'],\\n['clm_dates', 'DGNS_CD', 'HCPCS_CD'],\\n['clm_dates', 'provider', 'DGNS_CD', 'HCPCS_CD'],\\n['DGNS_CD', 'PRDCR_CD', 'HCPCS_CD'],\\n['provider', 'DGNS_CD', 'PRDCR_CD', 'HCPCS_CD'],\\n['provider', 'DGNS_CD', 'HCPCS_CD'],\\n['DGNS_CD', 'HCPCS_CD'],\\n['clm_dates', 'HCPCS_CD'],\\n['clm_dates', 'provider', 'PRDCR_CD', 'HCPCS_CD'],\\n['clm_dates', 'PRDCR_CD', 'HCPCS_CD'],\\n['clm_dates', 'provider', 'HCPCS_CD'],\\n['provider', 'PRDCR_CD', 'HCPCS_CD'],\\n['provider', 'HCPCS_CD'],\\n['HCPCS_CD'],\\n['PRDCR_CD', 'HCPCS_CD'],\\n['clm_dates', 'DGNS_CD', 'PRDCR_CD'],\\n['clm_dates', 'provider', 'DGNS_CD'],\\n['clm_dates', 'DGNS_CD'],\\n['clm_dates', 'provider', 'DGNS_CD', 'PRDCR_CD'],\\n['DGNS_CD', 'PRDCR_CD'],\\n['provider', 'DGNS_CD'],\\n['provider', 'DGNS_CD', 'PRDCR_CD'],\\n['DGNS_CD'],\\n['clm_dates'],\\n['clm_dates', 'PRDCR_CD'],\\n['clm_dates', 'provider'],\\n['clm_dates', 'provider', 'PRDCR_CD'],\\n['provider', 'PRDCR_CD'],\\n['PRDCR_CD'],\\n['provider']]), 'Initial_SGDModel.csv')\\n\""
      ]
     },
     "execution_count": 9,
     "metadata": {},
     "output_type": "execute_result"
    }
   ],
   "source": [
    "\"\"\"\n",
    "SGDModel = SGDRegressor(random_state=42)\n",
    "write_results(iterate_feature_sets(SGDModel, feature_dictionary, {}, [['clm_dates', 'provider', 'DGNS_CD', 'PRDCR_CD', 'HCPCS_CD'],\n",
    "['clm_dates', 'DGNS_CD', 'PRDCR_CD', 'HCPCS_CD'],\n",
    "['clm_dates', 'DGNS_CD', 'HCPCS_CD'],\n",
    "['clm_dates', 'provider', 'DGNS_CD', 'HCPCS_CD'],\n",
    "['DGNS_CD', 'PRDCR_CD', 'HCPCS_CD'],\n",
    "['provider', 'DGNS_CD', 'PRDCR_CD', 'HCPCS_CD'],\n",
    "['provider', 'DGNS_CD', 'HCPCS_CD'],\n",
    "['DGNS_CD', 'HCPCS_CD'],\n",
    "['clm_dates', 'HCPCS_CD'],\n",
    "['clm_dates', 'provider', 'PRDCR_CD', 'HCPCS_CD'],\n",
    "['clm_dates', 'PRDCR_CD', 'HCPCS_CD'],\n",
    "['clm_dates', 'provider', 'HCPCS_CD'],\n",
    "['provider', 'PRDCR_CD', 'HCPCS_CD'],\n",
    "['provider', 'HCPCS_CD'],\n",
    "['HCPCS_CD'],\n",
    "['PRDCR_CD', 'HCPCS_CD'],\n",
    "['clm_dates', 'DGNS_CD', 'PRDCR_CD'],\n",
    "['clm_dates', 'provider', 'DGNS_CD'],\n",
    "['clm_dates', 'DGNS_CD'],\n",
    "['clm_dates', 'provider', 'DGNS_CD', 'PRDCR_CD'],\n",
    "['DGNS_CD', 'PRDCR_CD'],\n",
    "['provider', 'DGNS_CD'],\n",
    "['provider', 'DGNS_CD', 'PRDCR_CD'],\n",
    "['DGNS_CD'],\n",
    "['clm_dates'],\n",
    "['clm_dates', 'PRDCR_CD'],\n",
    "['clm_dates', 'provider'],\n",
    "['clm_dates', 'provider', 'PRDCR_CD'],\n",
    "['provider', 'PRDCR_CD'],\n",
    "['PRDCR_CD'],\n",
    "['provider']]), 'Initial_SGDModel.csv')\n",
    "\"\"\""
   ]
  },
  {
   "cell_type": "markdown",
   "metadata": {},
   "source": [
    "# Initial Elastic-Net Results\n",
    "### Purpose is to find which features set's matter before hyperparameter tuning"
   ]
  },
  {
   "cell_type": "code",
   "execution_count": 10,
   "metadata": {},
   "outputs": [
    {
     "data": {
      "text/plain": [
       "\"\\nENModel = ElasticNet(random_state=42)\\nwrite_results(iterate_feature_sets(ENModel, feature_dictionary, {}, [['clm_dates', 'provider', 'DGNS_CD', 'PRDCR_CD', 'HCPCS_CD'],\\n['clm_dates', 'DGNS_CD', 'PRDCR_CD', 'HCPCS_CD'],\\n['clm_dates', 'DGNS_CD', 'HCPCS_CD'],\\n['clm_dates', 'provider', 'DGNS_CD', 'HCPCS_CD'],\\n['DGNS_CD', 'PRDCR_CD', 'HCPCS_CD'],\\n['provider', 'DGNS_CD', 'PRDCR_CD', 'HCPCS_CD'],\\n['provider', 'DGNS_CD', 'HCPCS_CD'],\\n['DGNS_CD', 'HCPCS_CD'],\\n['clm_dates', 'HCPCS_CD'],\\n['clm_dates', 'provider', 'PRDCR_CD', 'HCPCS_CD'],\\n['clm_dates', 'PRDCR_CD', 'HCPCS_CD'],\\n['clm_dates', 'provider', 'HCPCS_CD'],\\n['provider', 'PRDCR_CD', 'HCPCS_CD'],\\n['provider', 'HCPCS_CD'],\\n['HCPCS_CD'],\\n['PRDCR_CD', 'HCPCS_CD'],\\n['clm_dates', 'DGNS_CD', 'PRDCR_CD'],\\n['clm_dates', 'provider', 'DGNS_CD'],\\n['clm_dates', 'DGNS_CD'],\\n['clm_dates', 'provider', 'DGNS_CD', 'PRDCR_CD'],\\n['DGNS_CD', 'PRDCR_CD'],\\n['provider', 'DGNS_CD'],\\n['provider', 'DGNS_CD', 'PRDCR_CD'],\\n['DGNS_CD'],\\n['clm_dates'],\\n['clm_dates', 'PRDCR_CD'],\\n['clm_dates', 'provider'],\\n['clm_dates', 'provider', 'PRDCR_CD'],\\n['provider', 'PRDCR_CD'],\\n['PRDCR_CD'],\\n['provider']]), 'Initial_ENModel.csv')\\n\""
      ]
     },
     "execution_count": 10,
     "metadata": {},
     "output_type": "execute_result"
    }
   ],
   "source": [
    "\"\"\"\n",
    "ENModel = ElasticNet(random_state=42)\n",
    "write_results(iterate_feature_sets(ENModel, feature_dictionary, {}, [['clm_dates', 'provider', 'DGNS_CD', 'PRDCR_CD', 'HCPCS_CD'],\n",
    "['clm_dates', 'DGNS_CD', 'PRDCR_CD', 'HCPCS_CD'],\n",
    "['clm_dates', 'DGNS_CD', 'HCPCS_CD'],\n",
    "['clm_dates', 'provider', 'DGNS_CD', 'HCPCS_CD'],\n",
    "['DGNS_CD', 'PRDCR_CD', 'HCPCS_CD'],\n",
    "['provider', 'DGNS_CD', 'PRDCR_CD', 'HCPCS_CD'],\n",
    "['provider', 'DGNS_CD', 'HCPCS_CD'],\n",
    "['DGNS_CD', 'HCPCS_CD'],\n",
    "['clm_dates', 'HCPCS_CD'],\n",
    "['clm_dates', 'provider', 'PRDCR_CD', 'HCPCS_CD'],\n",
    "['clm_dates', 'PRDCR_CD', 'HCPCS_CD'],\n",
    "['clm_dates', 'provider', 'HCPCS_CD'],\n",
    "['provider', 'PRDCR_CD', 'HCPCS_CD'],\n",
    "['provider', 'HCPCS_CD'],\n",
    "['HCPCS_CD'],\n",
    "['PRDCR_CD', 'HCPCS_CD'],\n",
    "['clm_dates', 'DGNS_CD', 'PRDCR_CD'],\n",
    "['clm_dates', 'provider', 'DGNS_CD'],\n",
    "['clm_dates', 'DGNS_CD'],\n",
    "['clm_dates', 'provider', 'DGNS_CD', 'PRDCR_CD'],\n",
    "['DGNS_CD', 'PRDCR_CD'],\n",
    "['provider', 'DGNS_CD'],\n",
    "['provider', 'DGNS_CD', 'PRDCR_CD'],\n",
    "['DGNS_CD'],\n",
    "['clm_dates'],\n",
    "['clm_dates', 'PRDCR_CD'],\n",
    "['clm_dates', 'provider'],\n",
    "['clm_dates', 'provider', 'PRDCR_CD'],\n",
    "['provider', 'PRDCR_CD'],\n",
    "['PRDCR_CD'],\n",
    "['provider']]), 'Initial_ENModel.csv')\n",
    "\"\"\""
   ]
  },
  {
   "cell_type": "markdown",
   "metadata": {},
   "source": [
    "# Initial XGBoost Results\n",
    "### Purpose is to find which features set's matter before hyperparameter tuning"
   ]
  },
  {
   "cell_type": "code",
   "execution_count": 11,
   "metadata": {},
   "outputs": [
    {
     "data": {
      "text/plain": [
       "\"\\nXGBModel = xgb.(random_state=42)\\nwrite_results(iterate_feature_sets(XGBModel, feature_dictionary, {}, [['clm_dates', 'provider', 'DGNS_CD', 'PRDCR_CD', 'HCPCS_CD'],\\n['clm_dates', 'DGNS_CD', 'PRDCR_CD', 'HCPCS_CD'],\\n['clm_dates', 'DGNS_CD', 'HCPCS_CD'],\\n['clm_dates', 'provider', 'DGNS_CD', 'HCPCS_CD'],\\n['DGNS_CD', 'PRDCR_CD', 'HCPCS_CD'],\\n['provider', 'DGNS_CD', 'PRDCR_CD', 'HCPCS_CD'],\\n['provider', 'DGNS_CD', 'HCPCS_CD'],\\n['DGNS_CD', 'HCPCS_CD'],\\n['clm_dates', 'HCPCS_CD'],\\n['clm_dates', 'provider', 'PRDCR_CD', 'HCPCS_CD'],\\n['clm_dates', 'PRDCR_CD', 'HCPCS_CD'],\\n['clm_dates', 'provider', 'HCPCS_CD'],\\n['provider', 'PRDCR_CD', 'HCPCS_CD'],\\n['provider', 'HCPCS_CD'],\\n['HCPCS_CD'],\\n['PRDCR_CD', 'HCPCS_CD'],\\n['clm_dates', 'DGNS_CD', 'PRDCR_CD'],\\n['clm_dates', 'provider', 'DGNS_CD'],\\n['clm_dates', 'DGNS_CD'],\\n['clm_dates', 'provider', 'DGNS_CD', 'PRDCR_CD'],\\n['DGNS_CD', 'PRDCR_CD'],\\n['provider', 'DGNS_CD'],\\n['provider', 'DGNS_CD', 'PRDCR_CD'],\\n['DGNS_CD'],\\n['clm_dates'],\\n['clm_dates', 'PRDCR_CD'],\\n['clm_dates', 'provider'],\\n['clm_dates', 'provider', 'PRDCR_CD'],\\n['provider', 'PRDCR_CD'],\\n['PRDCR_CD'],\\n['provider']]), 'InitiaXGBModel.csv')\\n\""
      ]
     },
     "execution_count": 11,
     "metadata": {},
     "output_type": "execute_result"
    }
   ],
   "source": [
    "\"\"\"\n",
    "XGBModel = xgb.(random_state=42)\n",
    "write_results(iterate_feature_sets(XGBModel, feature_dictionary, {}, [['clm_dates', 'provider', 'DGNS_CD', 'PRDCR_CD', 'HCPCS_CD'],\n",
    "['clm_dates', 'DGNS_CD', 'PRDCR_CD', 'HCPCS_CD'],\n",
    "['clm_dates', 'DGNS_CD', 'HCPCS_CD'],\n",
    "['clm_dates', 'provider', 'DGNS_CD', 'HCPCS_CD'],\n",
    "['DGNS_CD', 'PRDCR_CD', 'HCPCS_CD'],\n",
    "['provider', 'DGNS_CD', 'PRDCR_CD', 'HCPCS_CD'],\n",
    "['provider', 'DGNS_CD', 'HCPCS_CD'],\n",
    "['DGNS_CD', 'HCPCS_CD'],\n",
    "['clm_dates', 'HCPCS_CD'],\n",
    "['clm_dates', 'provider', 'PRDCR_CD', 'HCPCS_CD'],\n",
    "['clm_dates', 'PRDCR_CD', 'HCPCS_CD'],\n",
    "['clm_dates', 'provider', 'HCPCS_CD'],\n",
    "['provider', 'PRDCR_CD', 'HCPCS_CD'],\n",
    "['provider', 'HCPCS_CD'],\n",
    "['HCPCS_CD'],\n",
    "['PRDCR_CD', 'HCPCS_CD'],\n",
    "['clm_dates', 'DGNS_CD', 'PRDCR_CD'],\n",
    "['clm_dates', 'provider', 'DGNS_CD'],\n",
    "['clm_dates', 'DGNS_CD'],\n",
    "['clm_dates', 'provider', 'DGNS_CD', 'PRDCR_CD'],\n",
    "['DGNS_CD', 'PRDCR_CD'],\n",
    "['provider', 'DGNS_CD'],\n",
    "['provider', 'DGNS_CD', 'PRDCR_CD'],\n",
    "['DGNS_CD'],\n",
    "['clm_dates'],\n",
    "['clm_dates', 'PRDCR_CD'],\n",
    "['clm_dates', 'provider'],\n",
    "['clm_dates', 'provider', 'PRDCR_CD'],\n",
    "['provider', 'PRDCR_CD'],\n",
    "['PRDCR_CD'],\n",
    "['provider']]), 'InitiaXGBModel.csv')\n",
    "\"\"\""
   ]
  },
  {
   "cell_type": "markdown",
   "metadata": {},
   "source": [
    "# Grid Search Gradient Boosted Results\n",
    "### Purpose is to find which hyperparameters perform the best on the top three feature selections + our demographic information"
   ]
  },
  {
   "cell_type": "code",
   "execution_count": 12,
   "metadata": {},
   "outputs": [
    {
     "data": {
      "text/plain": [
       "\"\\ngrid_dict = {#'learning_rate': [1, 0.5, 0.25, 0.1, 0.05, 0.01],\\n    #'max_iter': [1, 2, 4, 8, 16, 32, 64, 100, 200],\\n    'max_leaf_nodes': [2, 4, 6],\\n    #'max_depth': [np.linspace(1, 32, 32, endpoint=True)],\\n    #'min_samples_leaf': [np.linspace(0.1, 0.5, 5, endpoint=True)]\\n    }\\n\\n\\nGBRModel = HistGradientBoostingRegressor(random_state=42)\\nfor search in grid_dict.keys():\\n    write_results(iterate_feature_sets(GBRModel, feature_dictionary, {search: grid_dict[search]}, [\\n        ['clm_dates', 'provider', 'DGNS_CD', 'PRDCR_CD', 'HCPCS_CD', 'BIRTH_DATE', 'SEX', 'State', 'County'],\\n        ['clm_dates', 'DGNS_CD', 'PRDCR_CD', 'HCPCS_CD', 'BIRTH_DATE', 'SEX', 'State', 'County'],\\n        ['clm_dates', 'DGNS_CD', 'HCPCS_CD', 'BIRTH_DATE', 'SEX', 'State', 'County']]), search+'_GridSearch_GBRModel2.csv')\\n\""
      ]
     },
     "execution_count": 12,
     "metadata": {},
     "output_type": "execute_result"
    }
   ],
   "source": [
    "\"\"\"\n",
    "grid_dict = {#'learning_rate': [1, 0.5, 0.25, 0.1, 0.05, 0.01],\n",
    "    #'max_iter': [1, 2, 4, 8, 16, 32, 64, 100, 200],\n",
    "    'max_leaf_nodes': [2, 4, 6],\n",
    "    #'max_depth': [np.linspace(1, 32, 32, endpoint=True)],\n",
    "    #'min_samples_leaf': [np.linspace(0.1, 0.5, 5, endpoint=True)]\n",
    "    }\n",
    "\n",
    "\n",
    "GBRModel = HistGradientBoostingRegressor(random_state=42)\n",
    "for search in grid_dict.keys():\n",
    "    write_results(iterate_feature_sets(GBRModel, feature_dictionary, {search: grid_dict[search]}, [\n",
    "        ['clm_dates', 'provider', 'DGNS_CD', 'PRDCR_CD', 'HCPCS_CD', 'BIRTH_DATE', 'SEX', 'State', 'County'],\n",
    "        ['clm_dates', 'DGNS_CD', 'PRDCR_CD', 'HCPCS_CD', 'BIRTH_DATE', 'SEX', 'State', 'County'],\n",
    "        ['clm_dates', 'DGNS_CD', 'HCPCS_CD', 'BIRTH_DATE', 'SEX', 'State', 'County']]), search+'_GridSearch_GBRModel2.csv')\n",
    "\"\"\""
   ]
  },
  {
   "cell_type": "markdown",
   "metadata": {},
   "source": [
    "# Grid Search Stochastic Gradient Descent Results\n",
    "### Purpose is to find which hyperparameters perform the best on the top three feature selections + our demographic information"
   ]
  },
  {
   "cell_type": "code",
   "execution_count": 13,
   "metadata": {},
   "outputs": [
    {
     "data": {
      "text/plain": [
       "\"\\ngrid_dict = {'loss': ['squared_loss', 'squared_epsilon_insensitive'],\\n    'penalty': ['l1', 'l2'],\\n    'alpha': [.001, .0001, .00001],\\n    'max_iter': [1000, 5000, 10000]}\\n\\nSGDModel = SGDRegressor(random_state=42)\\nfor search in grid_dict.keys():\\n    write_results(iterate_feature_sets(SGDModel, feature_dictionary, {search: grid_dict[search]}, [\\n['clm_dates', 'DGNS_CD', 'PRDCR_CD', 'HCPCS_CD', 'BIRTH_DATE', 'SEX', 'State', 'County'],\\n['clm_dates', 'DGNS_CD', 'HCPCS_CD', 'BIRTH_DATE', 'SEX', 'State', 'County'],\\n['clm_dates', 'provider', 'DGNS_CD', 'HCPCS_CD', 'BIRTH_DATE', 'SEX', 'State', 'County']]), search+'_GridSearch_SGDModel.csv')\\n\""
      ]
     },
     "execution_count": 13,
     "metadata": {},
     "output_type": "execute_result"
    }
   ],
   "source": [
    "\"\"\"\n",
    "grid_dict = {'loss': ['squared_loss', 'squared_epsilon_insensitive'],\n",
    "    'penalty': ['l1', 'l2'],\n",
    "    'alpha': [.001, .0001, .00001],\n",
    "    'max_iter': [1000, 5000, 10000]}\n",
    "\n",
    "SGDModel = SGDRegressor(random_state=42)\n",
    "for search in grid_dict.keys():\n",
    "    write_results(iterate_feature_sets(SGDModel, feature_dictionary, {search: grid_dict[search]}, [\n",
    "['clm_dates', 'DGNS_CD', 'PRDCR_CD', 'HCPCS_CD', 'BIRTH_DATE', 'SEX', 'State', 'County'],\n",
    "['clm_dates', 'DGNS_CD', 'HCPCS_CD', 'BIRTH_DATE', 'SEX', 'State', 'County'],\n",
    "['clm_dates', 'provider', 'DGNS_CD', 'HCPCS_CD', 'BIRTH_DATE', 'SEX', 'State', 'County']]), search+'_GridSearch_SGDModel.csv')\n",
    "\"\"\""
   ]
  },
  {
   "cell_type": "markdown",
   "metadata": {},
   "source": [
    "# Grid Search Elastic Net Results\n",
    "### Purpose is to find which hyperparameters perform the best on the top three feature selections + our demographic information"
   ]
  },
  {
   "cell_type": "code",
   "execution_count": 14,
   "metadata": {},
   "outputs": [
    {
     "data": {
      "text/plain": [
       "\"\\ngrid_dict = {'alpha': [.0001, .001, .01],\\n            'l1_ratio': [.1, .2, .3, .4, .5, .6, .7, .8, .9]}\\n\\nENModel = ElasticNet(random_state=42)\\nfor search in grid_dict.keys():\\n    write_results(iterate_feature_sets(ENModel, feature_dictionary, {search: grid_dict[search]}, [\\n['clm_dates', 'DGNS_CD', 'HCPCS_CD', 'BIRTH_DATE', 'SEX', 'State', 'County'],\\n['clm_dates', 'DGNS_CD', 'HCPCS_CD', 'PRDCR_CD', 'BIRTH_DATE', 'SEX', 'State', 'County'],\\n['clm_dates', 'provider', 'DGNS_CD', 'HCPCS_CD', 'BIRTH_DATE', 'SEX', 'State', 'County']]), search+'_GridSearch_ENModel.csv')\\n\""
      ]
     },
     "execution_count": 14,
     "metadata": {},
     "output_type": "execute_result"
    }
   ],
   "source": [
    "\"\"\"\n",
    "grid_dict = {'alpha': [.0001, .001, .01],\n",
    "            'l1_ratio': [.1, .2, .3, .4, .5, .6, .7, .8, .9]}\n",
    "\n",
    "ENModel = ElasticNet(random_state=42)\n",
    "for search in grid_dict.keys():\n",
    "    write_results(iterate_feature_sets(ENModel, feature_dictionary, {search: grid_dict[search]}, [\n",
    "['clm_dates', 'DGNS_CD', 'HCPCS_CD', 'BIRTH_DATE', 'SEX', 'State', 'County'],\n",
    "['clm_dates', 'DGNS_CD', 'HCPCS_CD', 'PRDCR_CD', 'BIRTH_DATE', 'SEX', 'State', 'County'],\n",
    "['clm_dates', 'provider', 'DGNS_CD', 'HCPCS_CD', 'BIRTH_DATE', 'SEX', 'State', 'County']]), search+'_GridSearch_ENModel.csv')\n",
    "\"\"\""
   ]
  },
  {
   "cell_type": "markdown",
   "metadata": {},
   "source": [
    "# Grid Search XGBoost Results\n",
    "### Purpose is to find which hyperparameters perform the best on the top three feature selections + our demographic information"
   ]
  },
  {
   "cell_type": "code",
   "execution_count": 15,
   "metadata": {},
   "outputs": [
    {
     "data": {
      "text/plain": [
       "\"\\ngrid_dict = {'n_estimators': [3, 6, 9, 12, 15, 18],\\n    'tree_method': ['approx', 'hist'],\\n    'max_depth': [5,10,15,20,25,30,35]}\\n\\n\\nXGBModel = xgb.XGBRFRegressor(random_state=42)\\nfor search in grid_dict.keys():\\n    write_results(iterate_feature_sets(XGBModel, feature_dictionary, {search: grid_dict[search]}, [\\n        ['clm_dates', 'provider', 'DGNS_CD', 'PRDCR_CD', 'HCPCS_CD', 'BIRTH_DATE', 'SEX', 'State', 'County'],\\n        ['clm_dates', 'DGNS_CD', 'PRDCR_CD', 'HCPCS_CD', 'BIRTH_DATE', 'SEX', 'State', 'County'],\\n        ['clm_dates', 'DGNS_CD', 'HCPCS_CD', 'BIRTH_DATE', 'SEX', 'State', 'County']]), search+'_GridSearch_XGBModel.csv')\\n\""
      ]
     },
     "execution_count": 15,
     "metadata": {},
     "output_type": "execute_result"
    }
   ],
   "source": [
    "\"\"\"\n",
    "grid_dict = {'n_estimators': [3, 6, 9, 12, 15, 18],\n",
    "    'tree_method': ['approx', 'hist'],\n",
    "    'max_depth': [5,10,15,20,25,30,35]}\n",
    "\n",
    "\n",
    "XGBModel = xgb.XGBRFRegressor(random_state=42)\n",
    "for search in grid_dict.keys():\n",
    "    write_results(iterate_feature_sets(XGBModel, feature_dictionary, {search: grid_dict[search]}, [\n",
    "        ['clm_dates', 'provider', 'DGNS_CD', 'PRDCR_CD', 'HCPCS_CD', 'BIRTH_DATE', 'SEX', 'State', 'County'],\n",
    "        ['clm_dates', 'DGNS_CD', 'PRDCR_CD', 'HCPCS_CD', 'BIRTH_DATE', 'SEX', 'State', 'County'],\n",
    "        ['clm_dates', 'DGNS_CD', 'HCPCS_CD', 'BIRTH_DATE', 'SEX', 'State', 'County']]), search+'_GridSearch_XGBModel.csv')\n",
    "\"\"\""
   ]
  },
  {
   "cell_type": "markdown",
   "metadata": {},
   "source": [
    "# Final Histogram Gradient Boosted NonPCA Supervised Run\n",
    "### See how the model performs on the dataset without PCA"
   ]
  },
  {
   "cell_type": "code",
   "execution_count": 16,
   "metadata": {},
   "outputs": [],
   "source": [
    "\n",
    "grid_dict = {'learning_rate': [0.25],\n",
    "    'max_iter': [200],\n",
    "    #wanted to go a little higher on leaf nodes since there seemed to be more to gain\n",
    "    'max_leaf_nodes': [10],\n",
    "    'max_depth': [18]\n",
    "    #results were inconclusive for minimum samples, going to leave as default\n",
    "    }\n",
    "\n",
    "\n",
    "GBRModel = HistGradientBoostingRegressor(random_state=42)\n",
    "write_results(iterate_feature_sets(GBRModel, feature_dictionary, grid_dict, [\n",
    "    # picked because of speed and results\n",
    "    ['clm_dates', 'DGNS_CD', 'HCPCS_CD', 'BIRTH_DATE', 'SEX', 'State', 'County']]), 'NPCA_Final_GBRModel.csv')\n"
   ]
  },
  {
   "cell_type": "markdown",
   "metadata": {},
   "source": [
    "# Final Stochastic Gradient Descent NonPCA Supervised Run\n",
    "### See how the model performs on the dataset without PCA"
   ]
  },
  {
   "cell_type": "code",
   "execution_count": null,
   "metadata": {},
   "outputs": [
    {
     "ename": "NameError",
     "evalue": "name 'SGDRegressor' is not defined",
     "output_type": "error",
     "traceback": [
      "\u001b[1;31m---------------------------------------------------------------------------\u001b[0m",
      "\u001b[1;31mNameError\u001b[0m                                 Traceback (most recent call last)",
      "\u001b[1;32mC:\\Users\\TAYLOR~1\\AppData\\Local\\Temp/ipykernel_1296/3672544880.py\u001b[0m in \u001b[0;36m<module>\u001b[1;34m\u001b[0m\n\u001b[0;32m      4\u001b[0m     'max_iter': [1000]}\n\u001b[0;32m      5\u001b[0m \u001b[1;33m\u001b[0m\u001b[0m\n\u001b[1;32m----> 6\u001b[1;33m \u001b[0mSGDModel\u001b[0m \u001b[1;33m=\u001b[0m \u001b[0mSGDRegressor\u001b[0m\u001b[1;33m(\u001b[0m\u001b[0mrandom_state\u001b[0m\u001b[1;33m=\u001b[0m\u001b[1;36m42\u001b[0m\u001b[1;33m)\u001b[0m\u001b[1;33m\u001b[0m\u001b[1;33m\u001b[0m\u001b[0m\n\u001b[0m\u001b[0;32m      7\u001b[0m write_results(iterate_feature_sets(SGDModel, feature_dictionary, grid_dict, [\n\u001b[0;32m      8\u001b[0m ['clm_dates', 'DGNS_CD', 'HCPCS_CD', 'BIRTH_DATE', 'SEX', 'State', 'County']]), 'NPCA_Final_SGDModel.csv')\n",
      "\u001b[1;31mNameError\u001b[0m: name 'SGDRegressor' is not defined"
     ]
    }
   ],
   "source": [
    "grid_dict = {'loss': ['squared_epsilon_insensitive'],\n",
    "    'penalty': ['l1'],\n",
    "    'alpha': [.0001],\n",
    "    'max_iter': [1000]}\n",
    "\n",
    "SGDModel = SGDRegressor(random_state=42)\n",
    "write_results(iterate_feature_sets(SGDModel, feature_dictionary, grid_dict, [\n",
    "['clm_dates', 'DGNS_CD', 'HCPCS_CD', 'BIRTH_DATE', 'SEX', 'State', 'County']]), 'NPCA_Final_SGDModel.csv')"
   ]
  },
  {
   "cell_type": "markdown",
   "metadata": {},
   "source": [
    "# Final Elastic Net NonPCA Supervised Run\n",
    "### See how the model performs on the dataset without PCA"
   ]
  },
  {
   "cell_type": "code",
   "execution_count": null,
   "metadata": {},
   "outputs": [
    {
     "name": "stdout",
     "output_type": "stream",
     "text": [
      "{'mean_fit_time': array([1313.70082536]), 'std_fit_time': array([173.4870673]), 'mean_score_time': array([3.42845478]), 'std_score_time': array([0.60479199]), 'param_alpha': masked_array(data=[0.0001],\n",
      "             mask=[False],\n",
      "       fill_value='?',\n",
      "            dtype=object), 'param_l1_ratio': masked_array(data=[0.9],\n",
      "             mask=[False],\n",
      "       fill_value='?',\n",
      "            dtype=object), 'params': [{'alpha': 0.0001, 'l1_ratio': 0.9}], 'split0_test_mean_squared_error': array([234575.36121982]), 'split1_test_mean_squared_error': array([236388.11086495]), 'split2_test_mean_squared_error': array([237540.75215016]), 'split3_test_mean_squared_error': array([243170.68852935]), 'split4_test_mean_squared_error': array([242236.20190961]), 'mean_test_mean_squared_error': array([238782.22293478]), 'std_test_mean_squared_error': array([3351.39698735]), 'rank_test_mean_squared_error': array([1]), 'split0_train_mean_squared_error': array([238319.35366125]), 'split1_train_mean_squared_error': array([237876.28868492]), 'split2_train_mean_squared_error': array([237631.44180044]), 'split3_train_mean_squared_error': array([236188.56603566]), 'split4_train_mean_squared_error': array([236403.98491964]), 'mean_train_mean_squared_error': array([237283.92702038]), 'std_train_mean_squared_error': array([838.79448974]), 'split0_test_r2_score': array([0.26241763]), 'split1_test_r2_score': array([0.25777969]), 'split2_test_r2_score': array([0.26337533]), 'split3_test_r2_score': array([0.27451431]), 'split4_test_r2_score': array([0.28367539]), 'mean_test_r2_score': array([0.26835247]), 'std_test_r2_score': array([0.00942909]), 'rank_test_r2_score': array([1]), 'split0_train_r2_score': array([0.27474073]), 'split1_train_r2_score': array([0.27583404]), 'split2_train_r2_score': array([0.27438957]), 'split3_train_r2_score': array([0.27172154]), 'split4_train_r2_score': array([0.26935561]), 'mean_train_r2_score': array([0.2732083]), 'std_train_r2_score': array([0.00235338])}\n"
     ]
    }
   ],
   "source": [
    "grid_dict = {'alpha': [.0001],\n",
    "    'l1_ratio': [.9]}\n",
    "\n",
    "ENModel = ElasticNet(random_state=42)\n",
    "write_results(iterate_feature_sets(ENModel, feature_dictionary, grid_dict, [\n",
    "['clm_dates', 'DGNS_CD', 'HCPCS_CD', 'BIRTH_DATE', 'SEX', 'State', 'County']]), 'NPCA_Final_ENModel.csv')"
   ]
  },
  {
   "cell_type": "markdown",
   "metadata": {},
   "source": [
    "# Final XGBoost NonPCA Supervised Run\n",
    "### See how the model performs on the dataset without PCA"
   ]
  },
  {
   "cell_type": "code",
   "execution_count": null,
   "metadata": {},
   "outputs": [
    {
     "name": "stdout",
     "output_type": "stream",
     "text": [
      "{'mean_fit_time': array([255.17862582]), 'std_fit_time': array([41.15142138]), 'mean_score_time': array([2.32038045]), 'std_score_time': array([0.69958266]), 'param_max_depth': masked_array(data=[10],\n",
      "             mask=[False],\n",
      "       fill_value='?',\n",
      "            dtype=object), 'param_number_of_estimators': masked_array(data=[9],\n",
      "             mask=[False],\n",
      "       fill_value='?',\n",
      "            dtype=object), 'param_tree_method': masked_array(data=['hist'],\n",
      "             mask=[False],\n",
      "       fill_value='?',\n",
      "            dtype=object), 'params': [{'max_depth': 10, 'number_of_estimators': 9, 'tree_method': 'hist'}], 'split0_test_mean_squared_error': array([229596.14047328]), 'split1_test_mean_squared_error': array([229405.51322255]), 'split2_test_mean_squared_error': array([231170.87972658]), 'split3_test_mean_squared_error': array([235786.80856708]), 'split4_test_mean_squared_error': array([234357.414672]), 'mean_test_mean_squared_error': array([232063.3513323]), 'std_test_mean_squared_error': array([2571.94863064]), 'rank_test_mean_squared_error': array([1]), 'split0_train_mean_squared_error': array([228615.28811887]), 'split1_train_mean_squared_error': array([228581.99781181]), 'split2_train_mean_squared_error': array([228276.86057634]), 'split3_train_mean_squared_error': array([227115.47023421]), 'split4_train_mean_squared_error': array([227350.83929695]), 'mean_train_mean_squared_error': array([227988.09120764]), 'std_train_mean_squared_error': array([631.98831147]), 'split0_test_r2_score': array([0.27807395]), 'split1_test_r2_score': array([0.27970391]), 'split2_test_r2_score': array([0.28312859]), 'split3_test_r2_score': array([0.29654369]), 'split4_test_r2_score': array([0.30697401]), 'mean_test_r2_score': array([0.28888483]), 'std_test_r2_score': array([0.0111371]), 'rank_test_r2_score': array([1]), 'split0_train_r2_score': array([0.30427238]), 'split1_train_r2_score': array([0.30412862]), 'split2_train_r2_score': array([0.3029539]), 'split3_train_r2_score': array([0.29969809]), 'split4_train_r2_score': array([0.2973358]), 'mean_train_r2_score': array([0.30167776]), 'std_train_r2_score': array([0.0027254])}\n"
     ]
    }
   ],
   "source": [
    "grid_dict = {'max_depth': [10],\n",
    "    'number_of_estimators': [9],\n",
    "    'tree_method': ['hist']}\n",
    "\n",
    "XGBModel = xgb.XGBRFRegressor(random_state=42)\n",
    "write_results(iterate_feature_sets(XGBModel, feature_dictionary, grid_dict, [\n",
    "['clm_dates', 'DGNS_CD', 'HCPCS_CD', 'BIRTH_DATE', 'SEX', 'State', 'County']]), 'NPCA_Final_XGBModel.csv')"
   ]
  }
 ],
 "metadata": {
  "kernelspec": {
   "display_name": "milestone2env",
   "language": "python",
   "name": "milestone2env"
  },
  "language_info": {
   "codemirror_mode": {
    "name": "ipython",
    "version": 3
   },
   "file_extension": ".py",
   "mimetype": "text/x-python",
   "name": "python",
   "nbconvert_exporter": "python",
   "pygments_lexer": "ipython3",
   "version": "3.9.7"
  },
  "vscode": {
   "interpreter": {
    "hash": "999f524c26953006a0bbc8c064922f984918dba23d71389a343ed2db8e7d188a"
   }
  }
 },
 "nbformat": 4,
 "nbformat_minor": 2
}
